{
 "cells": [
  {
   "cell_type": "markdown",
   "id": "c7e4fb8e",
   "metadata": {},
   "source": [
    "# Earthquake Analysis"
   ]
  },
  {
   "cell_type": "markdown",
   "id": "5c938720",
   "metadata": {},
   "source": [
    "## Project Description\n",
    "\n",
    "* The primary objective of this project is to conduct a simple-view Exploratory Data Analysis (EDA) of earthquake data to gain valuable insights into the characteristics, distribution, and patterns of seismic events worldwide.\n",
    "* It aims to explore and visualize key factors, including earthquake magnitude, geographical distribution, alert levels, and the 'Sig' (Significance) parameter, to uncover trends and patterns.\n",
    "* The choice of earthquakes as the subject of analysis stems from the desire to venture beyond the comfort zone and tackle a complex and real-world dataset.\n",
    "* EDA techniques, including data cleaning, descriptive statistics, and visualizations, will be employed to understand the dataset's characteristics thoroughly.\n",
    "* Discovering patterns and trends within the earthquake data can contribute to improving earthquake prediction, preparedness, and response strategies."
   ]
  },
  {
   "cell_type": "code",
   "execution_count": 82,
   "id": "2ce272bf",
   "metadata": {},
   "outputs": [],
   "source": [
    "import pandas as pd\n",
    "import streamlit as st\n",
    "import plotly.express as px"
   ]
  },
  {
   "cell_type": "code",
   "execution_count": 83,
   "id": "57684f34",
   "metadata": {},
   "outputs": [],
   "source": [
    "# Load the dataset into a DataFrame\n",
    "df=pd.read_csv(r\"C:\\Users\\oscar\\practicum-project-6\\tripleten_project6\\earthquake_data.csv\")"
   ]
  },
  {
   "cell_type": "code",
   "execution_count": 84,
   "id": "a480cfb0",
   "metadata": {},
   "outputs": [
    {
     "data": {
      "text/html": [
       "<div>\n",
       "<style scoped>\n",
       "    .dataframe tbody tr th:only-of-type {\n",
       "        vertical-align: middle;\n",
       "    }\n",
       "\n",
       "    .dataframe tbody tr th {\n",
       "        vertical-align: top;\n",
       "    }\n",
       "\n",
       "    .dataframe thead th {\n",
       "        text-align: right;\n",
       "    }\n",
       "</style>\n",
       "<table border=\"1\" class=\"dataframe\">\n",
       "  <thead>\n",
       "    <tr style=\"text-align: right;\">\n",
       "      <th></th>\n",
       "      <th>title</th>\n",
       "      <th>magnitude</th>\n",
       "      <th>date_time</th>\n",
       "      <th>cdi</th>\n",
       "      <th>mmi</th>\n",
       "      <th>alert</th>\n",
       "      <th>tsunami</th>\n",
       "      <th>sig</th>\n",
       "      <th>net</th>\n",
       "      <th>nst</th>\n",
       "      <th>dmin</th>\n",
       "      <th>gap</th>\n",
       "      <th>magType</th>\n",
       "      <th>depth</th>\n",
       "      <th>latitude</th>\n",
       "      <th>longitude</th>\n",
       "      <th>location</th>\n",
       "      <th>continent</th>\n",
       "      <th>country</th>\n",
       "    </tr>\n",
       "  </thead>\n",
       "  <tbody>\n",
       "    <tr>\n",
       "      <th>0</th>\n",
       "      <td>M 7.0 - 18 km SW of Malango, Solomon Islands</td>\n",
       "      <td>7.0</td>\n",
       "      <td>22-11-2022 02:03</td>\n",
       "      <td>8</td>\n",
       "      <td>7</td>\n",
       "      <td>green</td>\n",
       "      <td>1</td>\n",
       "      <td>768</td>\n",
       "      <td>us</td>\n",
       "      <td>117</td>\n",
       "      <td>0.509</td>\n",
       "      <td>17.0</td>\n",
       "      <td>mww</td>\n",
       "      <td>14.000</td>\n",
       "      <td>-9.7963</td>\n",
       "      <td>159.596</td>\n",
       "      <td>Malango, Solomon Islands</td>\n",
       "      <td>Oceania</td>\n",
       "      <td>Solomon Islands</td>\n",
       "    </tr>\n",
       "    <tr>\n",
       "      <th>1</th>\n",
       "      <td>M 6.9 - 204 km SW of Bengkulu, Indonesia</td>\n",
       "      <td>6.9</td>\n",
       "      <td>18-11-2022 13:37</td>\n",
       "      <td>4</td>\n",
       "      <td>4</td>\n",
       "      <td>green</td>\n",
       "      <td>0</td>\n",
       "      <td>735</td>\n",
       "      <td>us</td>\n",
       "      <td>99</td>\n",
       "      <td>2.229</td>\n",
       "      <td>34.0</td>\n",
       "      <td>mww</td>\n",
       "      <td>25.000</td>\n",
       "      <td>-4.9559</td>\n",
       "      <td>100.738</td>\n",
       "      <td>Bengkulu, Indonesia</td>\n",
       "      <td>NaN</td>\n",
       "      <td>NaN</td>\n",
       "    </tr>\n",
       "    <tr>\n",
       "      <th>2</th>\n",
       "      <td>M 7.0 -</td>\n",
       "      <td>7.0</td>\n",
       "      <td>12-11-2022 07:09</td>\n",
       "      <td>3</td>\n",
       "      <td>3</td>\n",
       "      <td>green</td>\n",
       "      <td>1</td>\n",
       "      <td>755</td>\n",
       "      <td>us</td>\n",
       "      <td>147</td>\n",
       "      <td>3.125</td>\n",
       "      <td>18.0</td>\n",
       "      <td>mww</td>\n",
       "      <td>579.000</td>\n",
       "      <td>-20.0508</td>\n",
       "      <td>-178.346</td>\n",
       "      <td>NaN</td>\n",
       "      <td>Oceania</td>\n",
       "      <td>Fiji</td>\n",
       "    </tr>\n",
       "    <tr>\n",
       "      <th>3</th>\n",
       "      <td>M 7.3 - 205 km ESE of Neiafu, Tonga</td>\n",
       "      <td>7.3</td>\n",
       "      <td>11-11-2022 10:48</td>\n",
       "      <td>5</td>\n",
       "      <td>5</td>\n",
       "      <td>green</td>\n",
       "      <td>1</td>\n",
       "      <td>833</td>\n",
       "      <td>us</td>\n",
       "      <td>149</td>\n",
       "      <td>1.865</td>\n",
       "      <td>21.0</td>\n",
       "      <td>mww</td>\n",
       "      <td>37.000</td>\n",
       "      <td>-19.2918</td>\n",
       "      <td>-172.129</td>\n",
       "      <td>Neiafu, Tonga</td>\n",
       "      <td>NaN</td>\n",
       "      <td>NaN</td>\n",
       "    </tr>\n",
       "    <tr>\n",
       "      <th>4</th>\n",
       "      <td>M 6.6 -</td>\n",
       "      <td>6.6</td>\n",
       "      <td>09-11-2022 10:14</td>\n",
       "      <td>0</td>\n",
       "      <td>2</td>\n",
       "      <td>green</td>\n",
       "      <td>1</td>\n",
       "      <td>670</td>\n",
       "      <td>us</td>\n",
       "      <td>131</td>\n",
       "      <td>4.998</td>\n",
       "      <td>27.0</td>\n",
       "      <td>mww</td>\n",
       "      <td>624.464</td>\n",
       "      <td>-25.5948</td>\n",
       "      <td>178.278</td>\n",
       "      <td>NaN</td>\n",
       "      <td>NaN</td>\n",
       "      <td>NaN</td>\n",
       "    </tr>\n",
       "    <tr>\n",
       "      <th>...</th>\n",
       "      <td>...</td>\n",
       "      <td>...</td>\n",
       "      <td>...</td>\n",
       "      <td>...</td>\n",
       "      <td>...</td>\n",
       "      <td>...</td>\n",
       "      <td>...</td>\n",
       "      <td>...</td>\n",
       "      <td>...</td>\n",
       "      <td>...</td>\n",
       "      <td>...</td>\n",
       "      <td>...</td>\n",
       "      <td>...</td>\n",
       "      <td>...</td>\n",
       "      <td>...</td>\n",
       "      <td>...</td>\n",
       "      <td>...</td>\n",
       "      <td>...</td>\n",
       "      <td>...</td>\n",
       "    </tr>\n",
       "    <tr>\n",
       "      <th>777</th>\n",
       "      <td>M 7.7 - 28 km SSW of Puerto El Triunfo, El Sal...</td>\n",
       "      <td>7.7</td>\n",
       "      <td>13-01-2001 17:33</td>\n",
       "      <td>0</td>\n",
       "      <td>8</td>\n",
       "      <td>NaN</td>\n",
       "      <td>0</td>\n",
       "      <td>912</td>\n",
       "      <td>us</td>\n",
       "      <td>427</td>\n",
       "      <td>0.000</td>\n",
       "      <td>0.0</td>\n",
       "      <td>mwc</td>\n",
       "      <td>60.000</td>\n",
       "      <td>13.0490</td>\n",
       "      <td>-88.660</td>\n",
       "      <td>Puerto El Triunfo, El Salvador</td>\n",
       "      <td>NaN</td>\n",
       "      <td>NaN</td>\n",
       "    </tr>\n",
       "    <tr>\n",
       "      <th>778</th>\n",
       "      <td>M 6.9 - 47 km S of Old Harbor, Alaska</td>\n",
       "      <td>6.9</td>\n",
       "      <td>10-01-2001 16:02</td>\n",
       "      <td>5</td>\n",
       "      <td>7</td>\n",
       "      <td>NaN</td>\n",
       "      <td>0</td>\n",
       "      <td>745</td>\n",
       "      <td>ak</td>\n",
       "      <td>0</td>\n",
       "      <td>0.000</td>\n",
       "      <td>0.0</td>\n",
       "      <td>mw</td>\n",
       "      <td>36.400</td>\n",
       "      <td>56.7744</td>\n",
       "      <td>-153.281</td>\n",
       "      <td>Old Harbor, Alaska</td>\n",
       "      <td>North America</td>\n",
       "      <td>NaN</td>\n",
       "    </tr>\n",
       "    <tr>\n",
       "      <th>779</th>\n",
       "      <td>M 7.1 - 16 km NE of Port-Olry, Vanuatu</td>\n",
       "      <td>7.1</td>\n",
       "      <td>09-01-2001 16:49</td>\n",
       "      <td>0</td>\n",
       "      <td>7</td>\n",
       "      <td>NaN</td>\n",
       "      <td>0</td>\n",
       "      <td>776</td>\n",
       "      <td>us</td>\n",
       "      <td>372</td>\n",
       "      <td>0.000</td>\n",
       "      <td>0.0</td>\n",
       "      <td>mwb</td>\n",
       "      <td>103.000</td>\n",
       "      <td>-14.9280</td>\n",
       "      <td>167.170</td>\n",
       "      <td>Port-Olry, Vanuatu</td>\n",
       "      <td>NaN</td>\n",
       "      <td>Vanuatu</td>\n",
       "    </tr>\n",
       "    <tr>\n",
       "      <th>780</th>\n",
       "      <td>M 6.8 - Mindanao, Philippines</td>\n",
       "      <td>6.8</td>\n",
       "      <td>01-01-2001 08:54</td>\n",
       "      <td>0</td>\n",
       "      <td>5</td>\n",
       "      <td>NaN</td>\n",
       "      <td>0</td>\n",
       "      <td>711</td>\n",
       "      <td>us</td>\n",
       "      <td>64</td>\n",
       "      <td>0.000</td>\n",
       "      <td>0.0</td>\n",
       "      <td>mwc</td>\n",
       "      <td>33.000</td>\n",
       "      <td>6.6310</td>\n",
       "      <td>126.899</td>\n",
       "      <td>Mindanao, Philippines</td>\n",
       "      <td>NaN</td>\n",
       "      <td>NaN</td>\n",
       "    </tr>\n",
       "    <tr>\n",
       "      <th>781</th>\n",
       "      <td>M 7.5 - 21 km SE of Lukatan, Philippines</td>\n",
       "      <td>7.5</td>\n",
       "      <td>01-01-2001 06:57</td>\n",
       "      <td>0</td>\n",
       "      <td>7</td>\n",
       "      <td>NaN</td>\n",
       "      <td>0</td>\n",
       "      <td>865</td>\n",
       "      <td>us</td>\n",
       "      <td>324</td>\n",
       "      <td>0.000</td>\n",
       "      <td>0.0</td>\n",
       "      <td>mwc</td>\n",
       "      <td>33.000</td>\n",
       "      <td>6.8980</td>\n",
       "      <td>126.579</td>\n",
       "      <td>Lukatan, Philippines</td>\n",
       "      <td>NaN</td>\n",
       "      <td>Philippines</td>\n",
       "    </tr>\n",
       "  </tbody>\n",
       "</table>\n",
       "<p>782 rows × 19 columns</p>\n",
       "</div>"
      ],
      "text/plain": [
       "                                                 title  magnitude  \\\n",
       "0         M 7.0 - 18 km SW of Malango, Solomon Islands        7.0   \n",
       "1             M 6.9 - 204 km SW of Bengkulu, Indonesia        6.9   \n",
       "2                                             M 7.0 -         7.0   \n",
       "3                  M 7.3 - 205 km ESE of Neiafu, Tonga        7.3   \n",
       "4                                             M 6.6 -         6.6   \n",
       "..                                                 ...        ...   \n",
       "777  M 7.7 - 28 km SSW of Puerto El Triunfo, El Sal...        7.7   \n",
       "778              M 6.9 - 47 km S of Old Harbor, Alaska        6.9   \n",
       "779             M 7.1 - 16 km NE of Port-Olry, Vanuatu        7.1   \n",
       "780                      M 6.8 - Mindanao, Philippines        6.8   \n",
       "781           M 7.5 - 21 km SE of Lukatan, Philippines        7.5   \n",
       "\n",
       "            date_time  cdi  mmi  alert  tsunami  sig net  nst   dmin   gap  \\\n",
       "0    22-11-2022 02:03    8    7  green        1  768  us  117  0.509  17.0   \n",
       "1    18-11-2022 13:37    4    4  green        0  735  us   99  2.229  34.0   \n",
       "2    12-11-2022 07:09    3    3  green        1  755  us  147  3.125  18.0   \n",
       "3    11-11-2022 10:48    5    5  green        1  833  us  149  1.865  21.0   \n",
       "4    09-11-2022 10:14    0    2  green        1  670  us  131  4.998  27.0   \n",
       "..                ...  ...  ...    ...      ...  ...  ..  ...    ...   ...   \n",
       "777  13-01-2001 17:33    0    8    NaN        0  912  us  427  0.000   0.0   \n",
       "778  10-01-2001 16:02    5    7    NaN        0  745  ak    0  0.000   0.0   \n",
       "779  09-01-2001 16:49    0    7    NaN        0  776  us  372  0.000   0.0   \n",
       "780  01-01-2001 08:54    0    5    NaN        0  711  us   64  0.000   0.0   \n",
       "781  01-01-2001 06:57    0    7    NaN        0  865  us  324  0.000   0.0   \n",
       "\n",
       "    magType    depth  latitude  longitude                        location  \\\n",
       "0       mww   14.000   -9.7963    159.596        Malango, Solomon Islands   \n",
       "1       mww   25.000   -4.9559    100.738             Bengkulu, Indonesia   \n",
       "2       mww  579.000  -20.0508   -178.346                             NaN   \n",
       "3       mww   37.000  -19.2918   -172.129                   Neiafu, Tonga   \n",
       "4       mww  624.464  -25.5948    178.278                             NaN   \n",
       "..      ...      ...       ...        ...                             ...   \n",
       "777     mwc   60.000   13.0490    -88.660  Puerto El Triunfo, El Salvador   \n",
       "778      mw   36.400   56.7744   -153.281              Old Harbor, Alaska   \n",
       "779     mwb  103.000  -14.9280    167.170              Port-Olry, Vanuatu   \n",
       "780     mwc   33.000    6.6310    126.899           Mindanao, Philippines   \n",
       "781     mwc   33.000    6.8980    126.579            Lukatan, Philippines   \n",
       "\n",
       "         continent          country  \n",
       "0          Oceania  Solomon Islands  \n",
       "1              NaN              NaN  \n",
       "2          Oceania             Fiji  \n",
       "3              NaN              NaN  \n",
       "4              NaN              NaN  \n",
       "..             ...              ...  \n",
       "777            NaN              NaN  \n",
       "778  North America              NaN  \n",
       "779            NaN          Vanuatu  \n",
       "780            NaN              NaN  \n",
       "781            NaN      Philippines  \n",
       "\n",
       "[782 rows x 19 columns]"
      ]
     },
     "execution_count": 84,
     "metadata": {},
     "output_type": "execute_result"
    }
   ],
   "source": [
    "df"
   ]
  },
  {
   "cell_type": "code",
   "execution_count": 85,
   "id": "6111ffb7",
   "metadata": {},
   "outputs": [],
   "source": [
    "#df.shape"
   ]
  },
  {
   "cell_type": "code",
   "execution_count": 86,
   "id": "f7927e5c",
   "metadata": {
    "scrolled": false
   },
   "outputs": [],
   "source": [
    "#df.info()"
   ]
  },
  {
   "cell_type": "code",
   "execution_count": 87,
   "id": "aa7fcf3f",
   "metadata": {},
   "outputs": [
    {
     "data": {
      "text/plain": [
       "True"
      ]
     },
     "execution_count": 87,
     "metadata": {},
     "output_type": "execute_result"
    }
   ],
   "source": [
    "#there are null values\n",
    "df.isnull().values.any()"
   ]
  },
  {
   "cell_type": "code",
   "execution_count": 88,
   "id": "c141bec2",
   "metadata": {},
   "outputs": [],
   "source": [
    "#Replacing nan values with 'not specified'\n",
    "df.fillna('not specified', inplace=True)"
   ]
  },
  {
   "cell_type": "code",
   "execution_count": 89,
   "id": "84230252",
   "metadata": {},
   "outputs": [
    {
     "data": {
      "text/plain": [
       "False"
      ]
     },
     "execution_count": 89,
     "metadata": {},
     "output_type": "execute_result"
    }
   ],
   "source": [
    "#checking for nulls\n",
    "df.isnull().values.any()"
   ]
  },
  {
   "cell_type": "markdown",
   "id": "89440e23",
   "metadata": {},
   "source": [
    "### When looking at the info from the graph, the date_time column has nanoseconds for precise measurement data.\n",
    "\n",
    "This is great but for the purpose of this analysis, we want only the year in which these eartquakes occurred. So, we'll be changing the type to a datetime type and apply the .apply function to swtich it back to a string for year respectively."
   ]
  },
  {
   "cell_type": "code",
   "execution_count": 90,
   "id": "99e36971",
   "metadata": {},
   "outputs": [],
   "source": [
    "#since column \"date_time\" has nanoseconds, we want to change it to to just years for a slider effect\n",
    "df[\"date_time\"]=df[\"date_time\"].apply(pd.to_datetime)"
   ]
  },
  {
   "cell_type": "code",
   "execution_count": 91,
   "id": "e9690c33",
   "metadata": {},
   "outputs": [],
   "source": [
    "df['date_time'] = df['date_time'].apply(lambda x: x.strftime('%Y'))"
   ]
  },
  {
   "cell_type": "code",
   "execution_count": 92,
   "id": "90614dc5",
   "metadata": {},
   "outputs": [],
   "source": [
    "#df.info()"
   ]
  },
  {
   "cell_type": "markdown",
   "id": "d3be0f6d",
   "metadata": {},
   "source": [
    "### This data contains oceanic earthquake information, therefore creating tsunamis. We'll led the user choose whether to include tsunami occurrence in the data."
   ]
  },
  {
   "cell_type": "code",
   "execution_count": 93,
   "id": "9dffb2ab",
   "metadata": {},
   "outputs": [],
   "source": [
    "#creating header with an option to filter the data and the checkbox:\n",
    "#data set includes 2 options for tsunami: 1=yes an 0=no\n",
    "#let users decide whether they want to see\n",
    "\n",
    "st.header('Earthquake effects.')\n",
    "st.write(\"\"\"\n",
    "##### Filter the data below to see how earthquake data is affected by whether a tsunami occured\n",
    "\"\"\")\n",
    "show_tsunami = st.checkbox('Include tsunami occurence')"
   ]
  },
  {
   "cell_type": "code",
   "execution_count": 94,
   "id": "a1c8bdfe",
   "metadata": {},
   "outputs": [
    {
     "data": {
      "text/plain": [
       "False"
      ]
     },
     "execution_count": 94,
     "metadata": {},
     "output_type": "execute_result"
    }
   ],
   "source": [
    "show_tsunami"
   ]
  },
  {
   "cell_type": "code",
   "execution_count": 97,
   "id": "9420b11b",
   "metadata": {},
   "outputs": [],
   "source": [
    "if not show_tsunami:\n",
    "    df = df[df.tsunami!='1']"
   ]
  },
  {
   "cell_type": "code",
   "execution_count": 57,
   "id": "a5fe80c1",
   "metadata": {},
   "outputs": [],
   "source": [
    "#creating options for filter from all servers\n",
    "country_choice = df['country'].unique()\n",
    "country_choice_man = st.selectbox('Select country:', country_choice)"
   ]
  },
  {
   "cell_type": "code",
   "execution_count": 58,
   "id": "ace9e217",
   "metadata": {},
   "outputs": [
    {
     "data": {
      "text/plain": [
       "'Solomon Islands'"
      ]
     },
     "execution_count": 58,
     "metadata": {},
     "output_type": "execute_result"
    }
   ],
   "source": [
    "country_choice_man"
   ]
  },
  {
   "cell_type": "code",
   "execution_count": 59,
   "id": "33e4c87c",
   "metadata": {},
   "outputs": [],
   "source": [
    "#next let's create a slider for years, so that users can filter earthquakes \n",
    "#creating min and max years as limits fro sliders\n",
    "min_year, max_year=int(df['date_time'].min()), int(df['date_time'].max())\n",
    "\n",
    "#creating slider\n",
    "year_range = st.slider(\n",
    "    \"Choose years\",\n",
    "    value=(min_year,max_year),min_value=min_year,max_value=max_year)"
   ]
  },
  {
   "cell_type": "code",
   "execution_count": 60,
   "id": "bed70abd",
   "metadata": {},
   "outputs": [
    {
     "data": {
      "text/plain": [
       "(2001, 2022)"
      ]
     },
     "execution_count": 60,
     "metadata": {},
     "output_type": "execute_result"
    }
   ],
   "source": [
    "#year_range"
   ]
  },
  {
   "cell_type": "code",
   "execution_count": 64,
   "id": "7af474c8",
   "metadata": {},
   "outputs": [
    {
     "data": {
      "text/plain": [
       "DeltaGenerator()"
      ]
     },
     "execution_count": 64,
     "metadata": {},
     "output_type": "execute_result"
    }
   ],
   "source": [
    "st.header('Earthquake analysis')\n",
    "st.write(\"\"\"\n",
    "###### Let's analyze what influences earthquakes the most. We will check how distribution of earthquakes varies depending on the alert and continent\n",
    "\"\"\")\n",
    "\n",
    "# Will create 2 histograms with the choice: color and alert, color and continent\n",
    "\n",
    "#creating list of options to choose from\n",
    "list_for_hist=['alert', 'continent']\n",
    "\n",
    "#creating selectbox\n",
    "choice_for_hist = st.selectbox('Split for magnitude distribution', list_for_hist)\n",
    "\n",
    "#plotly histogram, where magnitude is split by alert level\n",
    "fig1 = px.histogram(df, x=\"magnitude\", color=choice_for_hist,\n",
    "                    color_discrete_map={\n",
    "                        \"green\": \"green\",\n",
    "                        \"yellow\": \"yellow\",\n",
    "                        \"orange\": \"orange\",\n",
    "                        \"red\": \"red\",\n",
    "                        \"not specified\": \"gray\"})\n",
    "#adding title\n",
    "fig1.update_layout(title=\"<b> Split of magnitude by {}</b>\".format(choice_for_hist))\n",
    "\n",
    "#embedding into streamlit\n",
    "st.plotly_chart(fig1)"
   ]
  },
  {
   "cell_type": "code",
   "execution_count": 65,
   "id": "04fed673",
   "metadata": {
    "scrolled": true
   },
   "outputs": [
    {
     "data": {
      "application/vnd.plotly.v1+json": {
       "config": {
        "plotlyServerURL": "https://plot.ly"
       },
       "data": [
        {
         "alignmentgroup": "True",
         "bingroup": "x",
         "hovertemplate": "alert=green<br>magnitude=%{x}<br>count=%{y}<extra></extra>",
         "legendgroup": "green",
         "marker": {
          "color": "green",
          "pattern": {
           "shape": ""
          }
         },
         "name": "green",
         "offsetgroup": "green",
         "orientation": "v",
         "showlegend": true,
         "type": "histogram",
         "x": [
          7,
          6.9,
          7,
          7.3,
          6.6,
          7,
          6.8,
          6.7,
          6.5,
          7,
          6.6,
          6.5,
          7.2,
          6.9,
          6.8,
          6.6,
          7,
          6.9,
          6.7,
          6.7,
          6.6,
          6.8,
          6.5,
          6.5,
          6.6,
          6.6,
          6.8,
          6.6,
          7.3,
          7.3,
          6.6,
          6.9,
          6.9,
          7.3,
          6.5,
          7.1,
          6.6,
          6.9,
          6.9,
          6.9,
          6.9,
          8.1,
          7.5,
          7.1,
          8.2,
          6.7,
          6.7,
          6.5,
          6.5,
          6.7,
          6.7,
          6.9,
          6.5,
          6.5,
          6.6,
          6.5,
          8.1,
          7.4,
          7.3,
          7.7,
          6.9,
          7,
          6.7,
          6.7,
          6.9,
          6.5,
          6.8,
          6.5,
          6.9,
          6.9,
          6.8,
          7.8,
          7,
          6.6,
          7.4,
          6.6,
          6.8,
          6.5,
          6.6,
          6.8,
          6.5,
          6.5,
          7.5,
          7.1,
          6.5,
          6.6,
          6.5,
          6.7,
          6.6,
          6.9,
          6.8,
          6.6,
          7.2,
          6.6,
          6.9,
          7.3,
          7.3,
          7.6,
          6.8,
          6.5,
          7,
          6.7,
          6.6,
          6.6,
          6.8,
          7,
          7.3,
          7.1,
          6.6,
          7.5,
          6.8,
          6.7,
          6.5,
          6.8,
          6.5,
          6.5,
          6.7,
          6.5,
          7,
          6.7,
          6.5,
          6.9,
          6.5,
          7.9,
          7.1,
          7.1,
          6.5,
          6.9,
          8.2,
          6.5,
          6.5,
          6.8,
          6.9,
          6.7,
          6.8,
          6.7,
          7.9,
          7.1,
          7.5,
          6.5,
          6.5,
          7,
          6.6,
          6.5,
          6.8,
          6.6,
          6.7,
          6.7,
          6.5,
          7.7,
          6.6,
          6.8,
          6.6,
          6.5,
          6.8,
          6.9,
          6.5,
          6.9,
          6.5,
          6.5,
          7.3,
          6.9,
          6.7,
          6.9,
          6.5,
          7.8,
          6.6,
          6.6,
          6.9,
          6.9,
          6.6,
          6.8,
          6.9,
          7,
          6.8,
          7.2,
          7.7,
          6.6,
          7.2,
          6.9,
          6.9,
          6.7,
          7,
          6.6,
          6.7,
          6.7,
          6.9,
          7.8,
          7.2,
          7.1,
          6.6,
          6.7,
          6.5,
          6.6,
          6.9,
          7.2,
          6.7,
          7.6,
          7.6,
          6.8,
          6.7,
          6.9,
          6.9,
          6.6,
          6.8,
          6.5,
          7.1,
          6.6,
          6.6,
          6.7,
          6.5,
          7,
          6.7,
          6.5,
          6.6,
          7,
          6.9,
          7,
          6.5,
          6.7,
          6.5,
          7.8,
          6.8,
          6.8,
          6.9,
          6.8,
          6.8,
          7.1,
          7.5,
          6.8,
          6.7,
          6.5,
          6.5,
          7.5,
          7,
          6.7,
          6.7,
          6.8,
          6.5,
          6.6,
          6.6,
          6.6,
          6.8,
          6.5,
          6.7,
          7.1,
          6.6,
          7.1,
          6.7,
          6.8,
          6.9,
          6.9,
          6.5,
          6.5,
          6.7,
          6.9,
          7.9,
          6.7,
          6.5,
          6.9,
          6.9,
          6.5,
          6.6,
          6.5,
          7.5,
          6.6,
          6.6,
          7.4,
          7.6,
          6.6,
          6.5,
          7.1,
          6.5,
          6.9,
          6.7,
          6.8,
          6.5,
          6.5,
          6.5,
          6.5,
          6.5,
          6.5,
          7.7,
          6.9,
          6.6,
          7.1,
          6.6,
          6.8,
          6.7,
          6.5,
          7.1,
          6.5,
          6.5,
          6.5,
          7,
          6.7,
          7.3,
          6.6,
          7.3,
          6.6,
          6.5,
          6.7,
          6.7,
          8.3,
          7.4,
          6.8,
          6.5,
          7.2,
          6.6,
          6.6,
          7,
          6.5,
          6.5,
          6.9,
          6.6,
          6.6,
          6.9,
          7.1,
          6.8,
          6.7,
          7,
          7.1,
          8,
          6.8,
          8.2
         ],
         "xaxis": "x",
         "yaxis": "y"
        },
        {
         "alignmentgroup": "True",
         "bingroup": "x",
         "hovertemplate": "alert=yellow<br>magnitude=%{x}<br>count=%{y}<extra></extra>",
         "legendgroup": "yellow",
         "marker": {
          "color": "yellow",
          "pattern": {
           "shape": ""
          }
         },
         "name": "yellow",
         "offsetgroup": "yellow",
         "orientation": "v",
         "showlegend": true,
         "type": "histogram",
         "x": [
          6.8,
          7.6,
          6.9,
          7.6,
          7,
          7.5,
          8.2,
          7,
          7.6,
          6.6,
          7,
          7.7,
          6.8,
          6.6,
          6.5,
          7.1,
          6.6,
          7.1,
          7.5,
          6.7,
          6.8,
          7.3,
          6.9,
          7.5,
          7.2,
          6.5,
          6.5,
          6.6,
          6.5,
          6.8,
          6.9,
          6.9,
          6.6,
          6.5,
          7.9,
          7.6,
          7.9,
          6.5,
          6.5,
          6.5,
          6.8,
          6.9,
          6.7,
          6.6,
          7.3,
          7.2,
          7.7,
          8.2,
          6.9,
          6.6,
          6.5,
          6.5,
          7.7,
          6.9,
          7.4,
          8.6
         ],
         "xaxis": "x",
         "yaxis": "y"
        },
        {
         "alignmentgroup": "True",
         "bingroup": "x",
         "hovertemplate": "alert=orange<br>magnitude=%{x}<br>count=%{y}<extra></extra>",
         "legendgroup": "orange",
         "marker": {
          "color": "orange",
          "pattern": {
           "shape": ""
          }
         },
         "name": "orange",
         "offsetgroup": "orange",
         "orientation": "v",
         "showlegend": true,
         "type": "histogram",
         "x": [
          6.6,
          6.6,
          7.3,
          7.1,
          7,
          7.4,
          6.7,
          8,
          6.7,
          7.1,
          6.6,
          6.9,
          7.8,
          7.8,
          6.7,
          6.5,
          7.5,
          8.3,
          7.3,
          6.9,
          7.1,
          6.8
         ],
         "xaxis": "x",
         "yaxis": "y"
        },
        {
         "alignmentgroup": "True",
         "bingroup": "x",
         "hovertemplate": "alert=red<br>magnitude=%{x}<br>count=%{y}<extra></extra>",
         "legendgroup": "red",
         "marker": {
          "color": "red",
          "pattern": {
           "shape": ""
          }
         },
         "name": "red",
         "offsetgroup": "red",
         "orientation": "v",
         "showlegend": true,
         "type": "histogram",
         "x": [
          7.3,
          7,
          7.2,
          7.5,
          7.3,
          8.2,
          6.6,
          7,
          7.8,
          7.7,
          6.6,
          7.2
         ],
         "xaxis": "x",
         "yaxis": "y"
        },
        {
         "alignmentgroup": "True",
         "bingroup": "x",
         "hovertemplate": "alert=not specified<br>magnitude=%{x}<br>count=%{y}<extra></extra>",
         "legendgroup": "not specified",
         "marker": {
          "color": "gray",
          "pattern": {
           "shape": ""
          }
         },
         "name": "not specified",
         "offsetgroup": "not specified",
         "orientation": "v",
         "showlegend": true,
         "type": "histogram",
         "x": [
          6.5,
          6.5,
          6.7,
          6.7,
          6.6,
          7.1,
          7.5,
          6.7,
          7.1,
          7.3,
          6.5,
          6.8,
          7.8,
          6.5,
          6.6,
          7.3,
          7.6,
          7.6,
          7.3,
          6.6,
          7.7,
          6.5,
          6.6,
          6.7,
          6.8,
          6.7,
          7,
          6.5,
          7.1,
          6.6,
          7.4,
          6.7,
          6.7,
          7.1,
          7.2,
          6.6,
          7.1,
          6.5,
          6.9,
          7.1,
          6.5,
          6.9,
          6.7,
          6.7,
          7,
          7,
          7.1,
          6.5,
          7.2,
          6.6,
          7.6,
          6.7,
          6.8,
          6.8,
          6.6,
          7.1,
          6.6,
          6.9,
          6.6,
          6.5,
          7.7,
          7.9,
          9.1,
          7.3,
          6.7,
          6.9,
          7.2,
          7,
          7.2,
          7.3,
          6.7,
          6.6,
          7.8,
          6.7,
          7,
          7,
          7.1,
          7.3,
          7,
          6.5,
          7.6,
          7.3,
          6.9,
          6.6,
          6.7,
          6.6,
          7,
          7.5,
          7.2,
          7.2,
          6.9,
          6.9,
          7.8,
          6.6,
          6.7,
          6.5,
          7,
          6.9,
          6.8,
          6.6,
          6.5,
          7.4,
          8.8,
          7,
          7,
          6.5,
          6.8,
          7.1,
          6.6,
          6.5,
          7.3,
          6.6,
          6.8,
          6.9,
          6.8,
          7.4,
          7.8,
          7.7,
          6.6,
          7.6,
          8.1,
          7,
          6.7,
          6.6,
          7.5,
          7.1,
          6.9,
          7.8,
          6.7,
          7.3,
          7.6,
          7.2,
          7.4,
          6.6,
          7.7,
          7.4,
          6.7,
          6.7,
          6.8,
          6.6,
          6.9,
          6.7,
          6.8,
          7,
          6.9,
          6.6,
          6.9,
          7.9,
          6.9,
          7.3,
          7.2,
          6.9,
          6.7,
          6.6,
          7.2,
          6.5,
          7.4,
          6.5,
          6.9,
          6.5,
          6.6,
          6.7,
          7.4,
          6.6,
          6.5,
          6.5,
          6.8,
          6.8,
          6.8,
          7.7,
          6.8,
          6.8,
          6.8,
          6.7,
          7,
          6.5,
          7.9,
          7.8,
          8.4,
          6.8,
          7.2,
          6.5,
          8,
          7.5,
          7.2,
          6.9,
          6.8,
          6.6,
          6.7,
          6.9,
          6.6,
          8.1,
          6.7,
          7.1,
          6.7,
          7.5,
          8.1,
          6.9,
          7.1,
          8.3,
          6.6,
          6.7,
          6.7,
          6.7,
          6.9,
          6.8,
          6.5,
          6.8,
          7.7,
          6.5,
          6.6,
          6.8,
          8,
          8,
          6.5,
          6.7,
          6.6,
          7.6,
          6.5,
          6.7,
          7,
          6.7,
          6.6,
          6.5,
          6.8,
          6.5,
          6.5,
          6.8,
          7.6,
          6.6,
          7.5,
          7.6,
          7.2,
          7.2,
          6.7,
          6.6,
          7.2,
          7.8,
          6.9,
          6.7,
          6.5,
          6.7,
          8.6,
          6.6,
          7.1,
          6.8,
          6.5,
          6.5,
          6.7,
          7.1,
          6.6,
          6.6,
          7.2,
          9.1,
          8.1,
          6.8,
          6.8,
          7,
          7.1,
          7.1,
          7.2,
          7.5,
          6.7,
          6.7,
          6.6,
          6.7,
          7,
          6.5,
          6.8,
          6.6,
          7.4,
          7.2,
          6.5,
          6.5,
          6.9,
          6.6,
          6.7,
          6.5,
          6.6,
          6.7,
          7.3,
          7,
          6.7,
          7.3,
          6.6,
          6.5,
          6.5,
          6.8,
          6.6,
          6.5,
          6.6,
          7,
          6.7,
          6.7,
          6.5,
          7.3,
          7.4,
          8.16,
          6.6,
          7.2,
          7.6,
          6.5,
          6.8,
          6.9,
          6.6,
          7,
          7,
          6.8,
          6.5,
          6.8,
          7.6,
          6.5,
          7.3,
          6.7,
          6.7,
          7.9,
          7.4,
          6.6,
          6.7,
          7.6,
          6.5,
          7.6,
          6.5,
          6.5,
          6.5,
          6.6,
          6.7,
          7.1,
          6.7,
          6.8,
          7.1,
          6.5,
          7.5,
          7.4,
          6.6,
          6.5,
          6.7,
          6.6,
          7.2,
          6.8,
          6.8,
          6.5,
          7.8,
          7,
          7.5,
          7,
          6.5,
          6.6,
          6.5,
          7.6,
          6.6,
          6.7,
          8.4,
          6.7,
          6.8,
          6.5,
          6.8,
          7.1,
          7.4,
          6.6,
          7.7,
          6.9,
          7.7,
          6.9,
          7.1,
          6.8,
          7.5
         ],
         "xaxis": "x",
         "yaxis": "y"
        }
       ],
       "layout": {
        "barmode": "relative",
        "legend": {
         "title": {
          "text": "alert"
         },
         "tracegroupgap": 0
        },
        "margin": {
         "t": 60
        },
        "template": {
         "data": {
          "candlestick": [
           {
            "decreasing": {
             "line": {
              "color": "#000033"
             }
            },
            "increasing": {
             "line": {
              "color": "#000032"
             }
            },
            "type": "candlestick"
           }
          ],
          "contour": [
           {
            "colorscale": [
             [
              0,
              "#000011"
             ],
             [
              0.1111111111111111,
              "#000012"
             ],
             [
              0.2222222222222222,
              "#000013"
             ],
             [
              0.3333333333333333,
              "#000014"
             ],
             [
              0.4444444444444444,
              "#000015"
             ],
             [
              0.5555555555555556,
              "#000016"
             ],
             [
              0.6666666666666666,
              "#000017"
             ],
             [
              0.7777777777777778,
              "#000018"
             ],
             [
              0.8888888888888888,
              "#000019"
             ],
             [
              1,
              "#000020"
             ]
            ],
            "type": "contour"
           }
          ],
          "contourcarpet": [
           {
            "colorscale": [
             [
              0,
              "#000011"
             ],
             [
              0.1111111111111111,
              "#000012"
             ],
             [
              0.2222222222222222,
              "#000013"
             ],
             [
              0.3333333333333333,
              "#000014"
             ],
             [
              0.4444444444444444,
              "#000015"
             ],
             [
              0.5555555555555556,
              "#000016"
             ],
             [
              0.6666666666666666,
              "#000017"
             ],
             [
              0.7777777777777778,
              "#000018"
             ],
             [
              0.8888888888888888,
              "#000019"
             ],
             [
              1,
              "#000020"
             ]
            ],
            "type": "contourcarpet"
           }
          ],
          "heatmap": [
           {
            "colorscale": [
             [
              0,
              "#000011"
             ],
             [
              0.1111111111111111,
              "#000012"
             ],
             [
              0.2222222222222222,
              "#000013"
             ],
             [
              0.3333333333333333,
              "#000014"
             ],
             [
              0.4444444444444444,
              "#000015"
             ],
             [
              0.5555555555555556,
              "#000016"
             ],
             [
              0.6666666666666666,
              "#000017"
             ],
             [
              0.7777777777777778,
              "#000018"
             ],
             [
              0.8888888888888888,
              "#000019"
             ],
             [
              1,
              "#000020"
             ]
            ],
            "type": "heatmap"
           }
          ],
          "histogram2d": [
           {
            "colorscale": [
             [
              0,
              "#000011"
             ],
             [
              0.1111111111111111,
              "#000012"
             ],
             [
              0.2222222222222222,
              "#000013"
             ],
             [
              0.3333333333333333,
              "#000014"
             ],
             [
              0.4444444444444444,
              "#000015"
             ],
             [
              0.5555555555555556,
              "#000016"
             ],
             [
              0.6666666666666666,
              "#000017"
             ],
             [
              0.7777777777777778,
              "#000018"
             ],
             [
              0.8888888888888888,
              "#000019"
             ],
             [
              1,
              "#000020"
             ]
            ],
            "type": "histogram2d"
           }
          ],
          "icicle": [
           {
            "textfont": {
             "color": "white"
            },
            "type": "icicle"
           }
          ],
          "sankey": [
           {
            "textfont": {
             "color": "#000036"
            },
            "type": "sankey"
           }
          ],
          "scatter": [
           {
            "marker": {
             "line": {
              "width": 0
             }
            },
            "type": "scatter"
           }
          ],
          "table": [
           {
            "cells": {
             "fill": {
              "color": "#000038"
             },
             "font": {
              "color": "#000037"
             },
             "line": {
              "color": "#000039"
             }
            },
            "header": {
             "fill": {
              "color": "#000040"
             },
             "font": {
              "color": "#000036"
             },
             "line": {
              "color": "#000039"
             }
            },
            "type": "table"
           }
          ],
          "waterfall": [
           {
            "connector": {
             "line": {
              "color": "#000036",
              "width": 2
             }
            },
            "decreasing": {
             "marker": {
              "color": "#000033"
             }
            },
            "increasing": {
             "marker": {
              "color": "#000032"
             }
            },
            "totals": {
             "marker": {
              "color": "#000034"
             }
            },
            "type": "waterfall"
           }
          ]
         },
         "layout": {
          "coloraxis": {
           "colorscale": [
            [
             0,
             "#000011"
            ],
            [
             0.1111111111111111,
             "#000012"
            ],
            [
             0.2222222222222222,
             "#000013"
            ],
            [
             0.3333333333333333,
             "#000014"
            ],
            [
             0.4444444444444444,
             "#000015"
            ],
            [
             0.5555555555555556,
             "#000016"
            ],
            [
             0.6666666666666666,
             "#000017"
            ],
            [
             0.7777777777777778,
             "#000018"
            ],
            [
             0.8888888888888888,
             "#000019"
            ],
            [
             1,
             "#000020"
            ]
           ]
          },
          "colorscale": {
           "diverging": [
            [
             0,
             "#000021"
            ],
            [
             0.1,
             "#000022"
            ],
            [
             0.2,
             "#000023"
            ],
            [
             0.3,
             "#000024"
            ],
            [
             0.4,
             "#000025"
            ],
            [
             0.5,
             "#000026"
            ],
            [
             0.6,
             "#000027"
            ],
            [
             0.7,
             "#000028"
            ],
            [
             0.8,
             "#000029"
            ],
            [
             0.9,
             "#000030"
            ],
            [
             1,
             "#000031"
            ]
           ],
           "sequential": [
            [
             0,
             "#000011"
            ],
            [
             0.1111111111111111,
             "#000012"
            ],
            [
             0.2222222222222222,
             "#000013"
            ],
            [
             0.3333333333333333,
             "#000014"
            ],
            [
             0.4444444444444444,
             "#000015"
            ],
            [
             0.5555555555555556,
             "#000016"
            ],
            [
             0.6666666666666666,
             "#000017"
            ],
            [
             0.7777777777777778,
             "#000018"
            ],
            [
             0.8888888888888888,
             "#000019"
            ],
            [
             1,
             "#000020"
            ]
           ],
           "sequentialminus": [
            [
             0,
             "#000011"
            ],
            [
             0.1111111111111111,
             "#000012"
            ],
            [
             0.2222222222222222,
             "#000013"
            ],
            [
             0.3333333333333333,
             "#000014"
            ],
            [
             0.4444444444444444,
             "#000015"
            ],
            [
             0.5555555555555556,
             "#000016"
            ],
            [
             0.6666666666666666,
             "#000017"
            ],
            [
             0.7777777777777778,
             "#000018"
            ],
            [
             0.8888888888888888,
             "#000019"
            ],
            [
             1,
             "#000020"
            ]
           ]
          },
          "colorway": [
           "#000001",
           "#000002",
           "#000003",
           "#000004",
           "#000005",
           "#000006",
           "#000007",
           "#000008",
           "#000009",
           "#000010"
          ]
         }
        },
        "title": {
         "text": "<b> Split of magnitude by alert</b>"
        },
        "xaxis": {
         "anchor": "y",
         "domain": [
          0,
          1
         ],
         "title": {
          "text": "magnitude"
         }
        },
        "yaxis": {
         "anchor": "x",
         "domain": [
          0,
          1
         ],
         "title": {
          "text": "count"
         }
        }
       }
      },
      "text/html": [
       "<div>                            <div id=\"fcdd427f-3009-441c-bed5-3b91e8aae95d\" class=\"plotly-graph-div\" style=\"height:525px; width:100%;\"></div>            <script type=\"text/javascript\">                require([\"plotly\"], function(Plotly) {                    window.PLOTLYENV=window.PLOTLYENV || {};                                    if (document.getElementById(\"fcdd427f-3009-441c-bed5-3b91e8aae95d\")) {                    Plotly.newPlot(                        \"fcdd427f-3009-441c-bed5-3b91e8aae95d\",                        [{\"alignmentgroup\":\"True\",\"bingroup\":\"x\",\"hovertemplate\":\"alert=green\\u003cbr\\u003emagnitude=%{x}\\u003cbr\\u003ecount=%{y}\\u003cextra\\u003e\\u003c\\u002fextra\\u003e\",\"legendgroup\":\"green\",\"marker\":{\"color\":\"green\",\"pattern\":{\"shape\":\"\"}},\"name\":\"green\",\"offsetgroup\":\"green\",\"orientation\":\"v\",\"showlegend\":true,\"x\":[7.0,6.9,7.0,7.3,6.6,7.0,6.8,6.7,6.5,7.0,6.6,6.5,7.2,6.9,6.8,6.6,7.0,6.9,6.7,6.7,6.6,6.8,6.5,6.5,6.6,6.6,6.8,6.6,7.3,7.3,6.6,6.9,6.9,7.3,6.5,7.1,6.6,6.9,6.9,6.9,6.9,8.1,7.5,7.1,8.2,6.7,6.7,6.5,6.5,6.7,6.7,6.9,6.5,6.5,6.6,6.5,8.1,7.4,7.3,7.7,6.9,7.0,6.7,6.7,6.9,6.5,6.8,6.5,6.9,6.9,6.8,7.8,7.0,6.6,7.4,6.6,6.8,6.5,6.6,6.8,6.5,6.5,7.5,7.1,6.5,6.6,6.5,6.7,6.6,6.9,6.8,6.6,7.2,6.6,6.9,7.3,7.3,7.6,6.8,6.5,7.0,6.7,6.6,6.6,6.8,7.0,7.3,7.1,6.6,7.5,6.8,6.7,6.5,6.8,6.5,6.5,6.7,6.5,7.0,6.7,6.5,6.9,6.5,7.9,7.1,7.1,6.5,6.9,8.2,6.5,6.5,6.8,6.9,6.7,6.8,6.7,7.9,7.1,7.5,6.5,6.5,7.0,6.6,6.5,6.8,6.6,6.7,6.7,6.5,7.7,6.6,6.8,6.6,6.5,6.8,6.9,6.5,6.9,6.5,6.5,7.3,6.9,6.7,6.9,6.5,7.8,6.6,6.6,6.9,6.9,6.6,6.8,6.9,7.0,6.8,7.2,7.7,6.6,7.2,6.9,6.9,6.7,7.0,6.6,6.7,6.7,6.9,7.8,7.2,7.1,6.6,6.7,6.5,6.6,6.9,7.2,6.7,7.6,7.6,6.8,6.7,6.9,6.9,6.6,6.8,6.5,7.1,6.6,6.6,6.7,6.5,7.0,6.7,6.5,6.6,7.0,6.9,7.0,6.5,6.7,6.5,7.8,6.8,6.8,6.9,6.8,6.8,7.1,7.5,6.8,6.7,6.5,6.5,7.5,7.0,6.7,6.7,6.8,6.5,6.6,6.6,6.6,6.8,6.5,6.7,7.1,6.6,7.1,6.7,6.8,6.9,6.9,6.5,6.5,6.7,6.9,7.9,6.7,6.5,6.9,6.9,6.5,6.6,6.5,7.5,6.6,6.6,7.4,7.6,6.6,6.5,7.1,6.5,6.9,6.7,6.8,6.5,6.5,6.5,6.5,6.5,6.5,7.7,6.9,6.6,7.1,6.6,6.8,6.7,6.5,7.1,6.5,6.5,6.5,7.0,6.7,7.3,6.6,7.3,6.6,6.5,6.7,6.7,8.3,7.4,6.8,6.5,7.2,6.6,6.6,7.0,6.5,6.5,6.9,6.6,6.6,6.9,7.1,6.8,6.7,7.0,7.1,8.0,6.8,8.2],\"xaxis\":\"x\",\"yaxis\":\"y\",\"type\":\"histogram\"},{\"alignmentgroup\":\"True\",\"bingroup\":\"x\",\"hovertemplate\":\"alert=yellow\\u003cbr\\u003emagnitude=%{x}\\u003cbr\\u003ecount=%{y}\\u003cextra\\u003e\\u003c\\u002fextra\\u003e\",\"legendgroup\":\"yellow\",\"marker\":{\"color\":\"yellow\",\"pattern\":{\"shape\":\"\"}},\"name\":\"yellow\",\"offsetgroup\":\"yellow\",\"orientation\":\"v\",\"showlegend\":true,\"x\":[6.8,7.6,6.9,7.6,7.0,7.5,8.2,7.0,7.6,6.6,7.0,7.7,6.8,6.6,6.5,7.1,6.6,7.1,7.5,6.7,6.8,7.3,6.9,7.5,7.2,6.5,6.5,6.6,6.5,6.8,6.9,6.9,6.6,6.5,7.9,7.6,7.9,6.5,6.5,6.5,6.8,6.9,6.7,6.6,7.3,7.2,7.7,8.2,6.9,6.6,6.5,6.5,7.7,6.9,7.4,8.6],\"xaxis\":\"x\",\"yaxis\":\"y\",\"type\":\"histogram\"},{\"alignmentgroup\":\"True\",\"bingroup\":\"x\",\"hovertemplate\":\"alert=orange\\u003cbr\\u003emagnitude=%{x}\\u003cbr\\u003ecount=%{y}\\u003cextra\\u003e\\u003c\\u002fextra\\u003e\",\"legendgroup\":\"orange\",\"marker\":{\"color\":\"orange\",\"pattern\":{\"shape\":\"\"}},\"name\":\"orange\",\"offsetgroup\":\"orange\",\"orientation\":\"v\",\"showlegend\":true,\"x\":[6.6,6.6,7.3,7.1,7.0,7.4,6.7,8.0,6.7,7.1,6.6,6.9,7.8,7.8,6.7,6.5,7.5,8.3,7.3,6.9,7.1,6.8],\"xaxis\":\"x\",\"yaxis\":\"y\",\"type\":\"histogram\"},{\"alignmentgroup\":\"True\",\"bingroup\":\"x\",\"hovertemplate\":\"alert=red\\u003cbr\\u003emagnitude=%{x}\\u003cbr\\u003ecount=%{y}\\u003cextra\\u003e\\u003c\\u002fextra\\u003e\",\"legendgroup\":\"red\",\"marker\":{\"color\":\"red\",\"pattern\":{\"shape\":\"\"}},\"name\":\"red\",\"offsetgroup\":\"red\",\"orientation\":\"v\",\"showlegend\":true,\"x\":[7.3,7.0,7.2,7.5,7.3,8.2,6.6,7.0,7.8,7.7,6.6,7.2],\"xaxis\":\"x\",\"yaxis\":\"y\",\"type\":\"histogram\"},{\"alignmentgroup\":\"True\",\"bingroup\":\"x\",\"hovertemplate\":\"alert=not specified\\u003cbr\\u003emagnitude=%{x}\\u003cbr\\u003ecount=%{y}\\u003cextra\\u003e\\u003c\\u002fextra\\u003e\",\"legendgroup\":\"not specified\",\"marker\":{\"color\":\"gray\",\"pattern\":{\"shape\":\"\"}},\"name\":\"not specified\",\"offsetgroup\":\"not specified\",\"orientation\":\"v\",\"showlegend\":true,\"x\":[6.5,6.5,6.7,6.7,6.6,7.1,7.5,6.7,7.1,7.3,6.5,6.8,7.8,6.5,6.6,7.3,7.6,7.6,7.3,6.6,7.7,6.5,6.6,6.7,6.8,6.7,7.0,6.5,7.1,6.6,7.4,6.7,6.7,7.1,7.2,6.6,7.1,6.5,6.9,7.1,6.5,6.9,6.7,6.7,7.0,7.0,7.1,6.5,7.2,6.6,7.6,6.7,6.8,6.8,6.6,7.1,6.6,6.9,6.6,6.5,7.7,7.9,9.1,7.3,6.7,6.9,7.2,7.0,7.2,7.3,6.7,6.6,7.8,6.7,7.0,7.0,7.1,7.3,7.0,6.5,7.6,7.3,6.9,6.6,6.7,6.6,7.0,7.5,7.2,7.2,6.9,6.9,7.8,6.6,6.7,6.5,7.0,6.9,6.8,6.6,6.5,7.4,8.8,7.0,7.0,6.5,6.8,7.1,6.6,6.5,7.3,6.6,6.8,6.9,6.8,7.4,7.8,7.7,6.6,7.6,8.1,7.0,6.7,6.6,7.5,7.1,6.9,7.8,6.7,7.3,7.6,7.2,7.4,6.6,7.7,7.4,6.7,6.7,6.8,6.6,6.9,6.7,6.8,7.0,6.9,6.6,6.9,7.9,6.9,7.3,7.2,6.9,6.7,6.6,7.2,6.5,7.4,6.5,6.9,6.5,6.6,6.7,7.4,6.6,6.5,6.5,6.8,6.8,6.8,7.7,6.8,6.8,6.8,6.7,7.0,6.5,7.9,7.8,8.4,6.8,7.2,6.5,8.0,7.5,7.2,6.9,6.8,6.6,6.7,6.9,6.6,8.1,6.7,7.1,6.7,7.5,8.1,6.9,7.1,8.3,6.6,6.7,6.7,6.7,6.9,6.8,6.5,6.8,7.7,6.5,6.6,6.8,8.0,8.0,6.5,6.7,6.6,7.6,6.5,6.7,7.0,6.7,6.6,6.5,6.8,6.5,6.5,6.8,7.6,6.6,7.5,7.6,7.2,7.2,6.7,6.6,7.2,7.8,6.9,6.7,6.5,6.7,8.6,6.6,7.1,6.8,6.5,6.5,6.7,7.1,6.6,6.6,7.2,9.1,8.1,6.8,6.8,7.0,7.1,7.1,7.2,7.5,6.7,6.7,6.6,6.7,7.0,6.5,6.8,6.6,7.4,7.2,6.5,6.5,6.9,6.6,6.7,6.5,6.6,6.7,7.3,7.0,6.7,7.3,6.6,6.5,6.5,6.8,6.6,6.5,6.6,7.0,6.7,6.7,6.5,7.3,7.4,8.16,6.6,7.2,7.6,6.5,6.8,6.9,6.6,7.0,7.0,6.8,6.5,6.8,7.6,6.5,7.3,6.7,6.7,7.9,7.4,6.6,6.7,7.6,6.5,7.6,6.5,6.5,6.5,6.6,6.7,7.1,6.7,6.8,7.1,6.5,7.5,7.4,6.6,6.5,6.7,6.6,7.2,6.8,6.8,6.5,7.8,7.0,7.5,7.0,6.5,6.6,6.5,7.6,6.6,6.7,8.4,6.7,6.8,6.5,6.8,7.1,7.4,6.6,7.7,6.9,7.7,6.9,7.1,6.8,7.5],\"xaxis\":\"x\",\"yaxis\":\"y\",\"type\":\"histogram\"}],                        {\"template\":{\"data\":{\"candlestick\":[{\"decreasing\":{\"line\":{\"color\":\"#000033\"}},\"increasing\":{\"line\":{\"color\":\"#000032\"}},\"type\":\"candlestick\"}],\"contourcarpet\":[{\"colorscale\":[[0.0,\"#000011\"],[0.1111111111111111,\"#000012\"],[0.2222222222222222,\"#000013\"],[0.3333333333333333,\"#000014\"],[0.4444444444444444,\"#000015\"],[0.5555555555555556,\"#000016\"],[0.6666666666666666,\"#000017\"],[0.7777777777777778,\"#000018\"],[0.8888888888888888,\"#000019\"],[1.0,\"#000020\"]],\"type\":\"contourcarpet\"}],\"contour\":[{\"colorscale\":[[0.0,\"#000011\"],[0.1111111111111111,\"#000012\"],[0.2222222222222222,\"#000013\"],[0.3333333333333333,\"#000014\"],[0.4444444444444444,\"#000015\"],[0.5555555555555556,\"#000016\"],[0.6666666666666666,\"#000017\"],[0.7777777777777778,\"#000018\"],[0.8888888888888888,\"#000019\"],[1.0,\"#000020\"]],\"type\":\"contour\"}],\"heatmap\":[{\"colorscale\":[[0.0,\"#000011\"],[0.1111111111111111,\"#000012\"],[0.2222222222222222,\"#000013\"],[0.3333333333333333,\"#000014\"],[0.4444444444444444,\"#000015\"],[0.5555555555555556,\"#000016\"],[0.6666666666666666,\"#000017\"],[0.7777777777777778,\"#000018\"],[0.8888888888888888,\"#000019\"],[1.0,\"#000020\"]],\"type\":\"heatmap\"}],\"histogram2d\":[{\"colorscale\":[[0.0,\"#000011\"],[0.1111111111111111,\"#000012\"],[0.2222222222222222,\"#000013\"],[0.3333333333333333,\"#000014\"],[0.4444444444444444,\"#000015\"],[0.5555555555555556,\"#000016\"],[0.6666666666666666,\"#000017\"],[0.7777777777777778,\"#000018\"],[0.8888888888888888,\"#000019\"],[1.0,\"#000020\"]],\"type\":\"histogram2d\"}],\"icicle\":[{\"textfont\":{\"color\":\"white\"},\"type\":\"icicle\"}],\"sankey\":[{\"textfont\":{\"color\":\"#000036\"},\"type\":\"sankey\"}],\"scatter\":[{\"marker\":{\"line\":{\"width\":0}},\"type\":\"scatter\"}],\"table\":[{\"cells\":{\"fill\":{\"color\":\"#000038\"},\"font\":{\"color\":\"#000037\"},\"line\":{\"color\":\"#000039\"}},\"header\":{\"fill\":{\"color\":\"#000040\"},\"font\":{\"color\":\"#000036\"},\"line\":{\"color\":\"#000039\"}},\"type\":\"table\"}],\"waterfall\":[{\"connector\":{\"line\":{\"color\":\"#000036\",\"width\":2}},\"decreasing\":{\"marker\":{\"color\":\"#000033\"}},\"increasing\":{\"marker\":{\"color\":\"#000032\"}},\"totals\":{\"marker\":{\"color\":\"#000034\"}},\"type\":\"waterfall\"}]},\"layout\":{\"coloraxis\":{\"colorscale\":[[0.0,\"#000011\"],[0.1111111111111111,\"#000012\"],[0.2222222222222222,\"#000013\"],[0.3333333333333333,\"#000014\"],[0.4444444444444444,\"#000015\"],[0.5555555555555556,\"#000016\"],[0.6666666666666666,\"#000017\"],[0.7777777777777778,\"#000018\"],[0.8888888888888888,\"#000019\"],[1.0,\"#000020\"]]},\"colorscale\":{\"diverging\":[[0.0,\"#000021\"],[0.1,\"#000022\"],[0.2,\"#000023\"],[0.3,\"#000024\"],[0.4,\"#000025\"],[0.5,\"#000026\"],[0.6,\"#000027\"],[0.7,\"#000028\"],[0.8,\"#000029\"],[0.9,\"#000030\"],[1.0,\"#000031\"]],\"sequential\":[[0.0,\"#000011\"],[0.1111111111111111,\"#000012\"],[0.2222222222222222,\"#000013\"],[0.3333333333333333,\"#000014\"],[0.4444444444444444,\"#000015\"],[0.5555555555555556,\"#000016\"],[0.6666666666666666,\"#000017\"],[0.7777777777777778,\"#000018\"],[0.8888888888888888,\"#000019\"],[1.0,\"#000020\"]],\"sequentialminus\":[[0.0,\"#000011\"],[0.1111111111111111,\"#000012\"],[0.2222222222222222,\"#000013\"],[0.3333333333333333,\"#000014\"],[0.4444444444444444,\"#000015\"],[0.5555555555555556,\"#000016\"],[0.6666666666666666,\"#000017\"],[0.7777777777777778,\"#000018\"],[0.8888888888888888,\"#000019\"],[1.0,\"#000020\"]]},\"colorway\":[\"#000001\",\"#000002\",\"#000003\",\"#000004\",\"#000005\",\"#000006\",\"#000007\",\"#000008\",\"#000009\",\"#000010\"]}},\"xaxis\":{\"anchor\":\"y\",\"domain\":[0.0,1.0],\"title\":{\"text\":\"magnitude\"}},\"yaxis\":{\"anchor\":\"x\",\"domain\":[0.0,1.0],\"title\":{\"text\":\"count\"}},\"legend\":{\"title\":{\"text\":\"alert\"},\"tracegroupgap\":0},\"margin\":{\"t\":60},\"barmode\":\"relative\",\"title\":{\"text\":\"\\u003cb\\u003e Split of magnitude by alert\\u003c\\u002fb\\u003e\"}},                        {\"responsive\": true}                    ).then(function(){\n",
       "                            \n",
       "var gd = document.getElementById('fcdd427f-3009-441c-bed5-3b91e8aae95d');\n",
       "var x = new MutationObserver(function (mutations, observer) {{\n",
       "        var display = window.getComputedStyle(gd).display;\n",
       "        if (!display || display === 'none') {{\n",
       "            console.log([gd, 'removed!']);\n",
       "            Plotly.purge(gd);\n",
       "            observer.disconnect();\n",
       "        }}\n",
       "}});\n",
       "\n",
       "// Listen for the removal of the full notebook cells\n",
       "var notebookContainer = gd.closest('#notebook-container');\n",
       "if (notebookContainer) {{\n",
       "    x.observe(notebookContainer, {childList: true});\n",
       "}}\n",
       "\n",
       "// Listen for the clearing of the current output cell\n",
       "var outputEl = gd.closest('.output');\n",
       "if (outputEl) {{\n",
       "    x.observe(outputEl, {childList: true});\n",
       "}}\n",
       "\n",
       "                        })                };                });            </script>        </div>"
      ]
     },
     "metadata": {},
     "output_type": "display_data"
    }
   ],
   "source": [
    "fig1.show()"
   ]
  },
  {
   "cell_type": "code",
   "execution_count": 66,
   "id": "dd755d49",
   "metadata": {},
   "outputs": [],
   "source": [
    "#count_all = df['alert'].value_counts()"
   ]
  },
  {
   "cell_type": "code",
   "execution_count": 67,
   "id": "297eaded",
   "metadata": {},
   "outputs": [
    {
     "data": {
      "text/plain": [
       "not specified    367\n",
       "green            325\n",
       "yellow            56\n",
       "orange            22\n",
       "red               12\n",
       "Name: alert, dtype: int64"
      ]
     },
     "execution_count": 67,
     "metadata": {},
     "output_type": "execute_result"
    }
   ],
   "source": [
    "#count_all"
   ]
  },
  {
   "cell_type": "code",
   "execution_count": 69,
   "id": "044f1655",
   "metadata": {},
   "outputs": [],
   "source": [
    "st.write(\"\"\"\n",
    "###### Alert Level refers to an assessment of the potential population exposure to earthquakes in proximity to specific ares.\n",
    "\n",
    "• Green = Litle to no\n",
    "• Yellow = Limited\n",
    "• Orange = Significant\n",
    "• Red = Extensive\n",
    "\"\"\")"
   ]
  },
  {
   "cell_type": "markdown",
   "id": "55d74aed",
   "metadata": {},
   "source": [
    "### Alert Level Meaning\n",
    "\n",
    "Alert Level refers to an assessment of the potential population exposure to earthquakes in proximity to specific ares.\n",
    "\n",
    "</p>• Green = Ltle to no</p>\n",
    "• Yellow = Limited</p>\n",
    "• Orange = Significant</p>\n",
    "• Red = Extensive"
   ]
  },
  {
   "cell_type": "code",
   "execution_count": 70,
   "id": "0feb45a1",
   "metadata": {},
   "outputs": [],
   "source": [
    "df['age']=2023-df['date_time'].values.astype(float)\n",
    "    \n",
    "def age_category(x):\n",
    "    if x<5: return '<5'\n",
    "    elif x>=5 and x<10: return '5-10'\n",
    "    elif x>=10 and x<20: return '10-20'\n",
    "    else: return '>20'\n",
    "    \n",
    "df['age_category']= df['age'].apply(age_category)"
   ]
  },
  {
   "cell_type": "code",
   "execution_count": 71,
   "id": "be36f40c",
   "metadata": {},
   "outputs": [
    {
     "data": {
      "text/plain": [
       "0       <5\n",
       "1       <5\n",
       "2       <5\n",
       "3       <5\n",
       "4       <5\n",
       "      ... \n",
       "777    >20\n",
       "778    >20\n",
       "779    >20\n",
       "780    >20\n",
       "781    >20\n",
       "Name: age_category, Length: 782, dtype: object"
      ]
     },
     "execution_count": 71,
     "metadata": {},
     "output_type": "execute_result"
    }
   ],
   "source": [
    "#df['age_category']"
   ]
  },
  {
   "cell_type": "code",
   "execution_count": 72,
   "id": "7cf61528",
   "metadata": {},
   "outputs": [
    {
     "data": {
      "text/plain": [
       "DeltaGenerator()"
      ]
     },
     "execution_count": 72,
     "metadata": {},
     "output_type": "execute_result"
    }
   ],
   "source": [
    "st.write(\"\"\"\n",
    "###### Now let's check if Earthquake occurrence has increased over the years and if they're becoming more \"significant\"\n",
    "\"\"\")\n",
    "\n",
    "fig2 = px.scatter(df, x=\"magnitude\", y=\"sig\", color=\"age_category\", hover_data=['date_time'])\n",
    "\n",
    "st.plotly_chart(fig2)"
   ]
  },
  {
   "cell_type": "code",
   "execution_count": 73,
   "id": "fc613534",
   "metadata": {
    "scrolled": false
   },
   "outputs": [
    {
     "data": {
      "application/vnd.plotly.v1+json": {
       "config": {
        "plotlyServerURL": "https://plot.ly"
       },
       "data": [
        {
         "customdata": [
          [
           "2022"
          ],
          [
           "2022"
          ],
          [
           "2022"
          ],
          [
           "2022"
          ],
          [
           "2022"
          ],
          [
           "2022"
          ],
          [
           "2022"
          ],
          [
           "2022"
          ],
          [
           "2022"
          ],
          [
           "2022"
          ],
          [
           "2022"
          ],
          [
           "2022"
          ],
          [
           "2022"
          ],
          [
           "2022"
          ],
          [
           "2022"
          ],
          [
           "2022"
          ],
          [
           "2022"
          ],
          [
           "2022"
          ],
          [
           "2022"
          ],
          [
           "2022"
          ],
          [
           "2022"
          ],
          [
           "2022"
          ],
          [
           "2022"
          ],
          [
           "2022"
          ],
          [
           "2022"
          ],
          [
           "2022"
          ],
          [
           "2022"
          ],
          [
           "2022"
          ],
          [
           "2022"
          ],
          [
           "2022"
          ],
          [
           "2022"
          ],
          [
           "2022"
          ],
          [
           "2022"
          ],
          [
           "2022"
          ],
          [
           "2022"
          ],
          [
           "2022"
          ],
          [
           "2022"
          ],
          [
           "2022"
          ],
          [
           "2022"
          ],
          [
           "2022"
          ],
          [
           "2021"
          ],
          [
           "2021"
          ],
          [
           "2021"
          ],
          [
           "2021"
          ],
          [
           "2021"
          ],
          [
           "2021"
          ],
          [
           "2021"
          ],
          [
           "2021"
          ],
          [
           "2021"
          ],
          [
           "2021"
          ],
          [
           "2021"
          ],
          [
           "2021"
          ],
          [
           "2021"
          ],
          [
           "2021"
          ],
          [
           "2021"
          ],
          [
           "2021"
          ],
          [
           "2021"
          ],
          [
           "2021"
          ],
          [
           "2021"
          ],
          [
           "2021"
          ],
          [
           "2021"
          ],
          [
           "2021"
          ],
          [
           "2021"
          ],
          [
           "2021"
          ],
          [
           "2021"
          ],
          [
           "2021"
          ],
          [
           "2021"
          ],
          [
           "2021"
          ],
          [
           "2021"
          ],
          [
           "2021"
          ],
          [
           "2021"
          ],
          [
           "2021"
          ],
          [
           "2021"
          ],
          [
           "2021"
          ],
          [
           "2021"
          ],
          [
           "2021"
          ],
          [
           "2021"
          ],
          [
           "2021"
          ],
          [
           "2021"
          ],
          [
           "2021"
          ],
          [
           "2021"
          ],
          [
           "2021"
          ],
          [
           "2020"
          ],
          [
           "2020"
          ],
          [
           "2020"
          ],
          [
           "2020"
          ],
          [
           "2020"
          ],
          [
           "2020"
          ],
          [
           "2020"
          ],
          [
           "2020"
          ],
          [
           "2020"
          ],
          [
           "2020"
          ],
          [
           "2020"
          ],
          [
           "2020"
          ],
          [
           "2020"
          ],
          [
           "2020"
          ],
          [
           "2020"
          ],
          [
           "2020"
          ],
          [
           "2020"
          ],
          [
           "2020"
          ],
          [
           "2020"
          ],
          [
           "2020"
          ],
          [
           "2020"
          ],
          [
           "2020"
          ],
          [
           "2020"
          ],
          [
           "2020"
          ],
          [
           "2020"
          ],
          [
           "2020"
          ],
          [
           "2020"
          ],
          [
           "2019"
          ],
          [
           "2019"
          ],
          [
           "2019"
          ],
          [
           "2019"
          ],
          [
           "2019"
          ],
          [
           "2019"
          ],
          [
           "2019"
          ],
          [
           "2019"
          ],
          [
           "2019"
          ],
          [
           "2019"
          ],
          [
           "2019"
          ],
          [
           "2019"
          ],
          [
           "2019"
          ],
          [
           "2019"
          ],
          [
           "2019"
          ],
          [
           "2019"
          ],
          [
           "2019"
          ],
          [
           "2019"
          ],
          [
           "2019"
          ],
          [
           "2019"
          ],
          [
           "2019"
          ],
          [
           "2019"
          ],
          [
           "2019"
          ],
          [
           "2019"
          ],
          [
           "2019"
          ],
          [
           "2019"
          ],
          [
           "2019"
          ],
          [
           "2019"
          ],
          [
           "2019"
          ],
          [
           "2019"
          ],
          [
           "2019"
          ],
          [
           "2019"
          ],
          [
           "2019"
          ]
         ],
         "hovertemplate": "age_category=<5<br>magnitude=%{x}<br>sig=%{y}<br>date_time=%{customdata[0]}<extra></extra>",
         "legendgroup": "<5",
         "marker": {
          "color": "#000001",
          "symbol": "circle"
         },
         "mode": "markers",
         "name": "<5",
         "orientation": "v",
         "showlegend": true,
         "type": "scatter",
         "x": [
          7,
          6.9,
          7,
          7.3,
          6.6,
          7,
          6.8,
          6.7,
          6.8,
          7.6,
          6.9,
          6.5,
          7,
          7.6,
          6.6,
          6.6,
          7,
          6.5,
          7.2,
          6.9,
          6.8,
          6.6,
          7,
          6.9,
          6.7,
          7.3,
          6.7,
          6.6,
          6.8,
          6.5,
          6.5,
          6.6,
          6.5,
          6.5,
          6.6,
          6.7,
          6.7,
          6.8,
          6.6,
          6.6,
          7.3,
          7.3,
          7.5,
          6.6,
          6.9,
          6.9,
          7.3,
          6.5,
          7,
          7.1,
          6.6,
          6.9,
          6.9,
          7.2,
          6.9,
          6.9,
          8.1,
          7.5,
          7.1,
          8.2,
          8.2,
          6.7,
          6.7,
          6.5,
          6.5,
          7.3,
          6.7,
          6.7,
          6.9,
          6.5,
          6.5,
          7,
          6.6,
          6.5,
          8.1,
          7.4,
          7.3,
          7.1,
          7.7,
          6.9,
          7,
          6.7,
          6.7,
          7,
          7.6,
          6.9,
          6.5,
          6.8,
          6.5,
          6.9,
          6.9,
          6.8,
          6.6,
          7.8,
          7,
          6.6,
          7.4,
          7.4,
          6.6,
          6.8,
          6.5,
          6.6,
          6.8,
          6.5,
          6.5,
          7.5,
          7,
          7.7,
          6.7,
          6.8,
          7.1,
          6.5,
          6.6,
          6.5,
          6.6,
          6.7,
          6.5,
          6.6,
          6.6,
          6.9,
          6.8,
          6.6,
          7.2,
          6.6,
          6.9,
          7.1,
          7.3,
          7.3,
          6.6,
          8,
          7.6,
          7.1,
          6.8,
          6.5,
          7,
          7.5,
          6.7,
          6.7,
          6.7,
          6.6,
          6.6,
          6.8
         ],
         "xaxis": "x",
         "y": [
          768,
          735,
          755,
          833,
          670,
          755,
          711,
          797,
          1179,
          1799,
          887,
          756,
          761,
          965,
          1043,
          672,
          1351,
          653,
          876,
          733,
          762,
          762,
          763,
          738,
          806,
          2397,
          708,
          670,
          712,
          690,
          651,
          785,
          650,
          650,
          674,
          691,
          691,
          730,
          976,
          1012,
          921,
          854,
          1094,
          688,
          995,
          740,
          826,
          684,
          2504,
          776,
          670,
          741,
          734,
          2331,
          738,
          738,
          1009,
          868,
          846,
          1237,
          1252,
          935,
          830,
          650,
          652,
          1025,
          698,
          694,
          919,
          651,
          652,
          1052,
          672,
          650,
          1021,
          843,
          932,
          1612,
          918,
          739,
          802,
          776,
          776,
          1527,
          1165,
          732,
          674,
          824,
          651,
          749,
          735,
          716,
          784,
          1111,
          820,
          684,
          1494,
          873,
          734,
          835,
          1320,
          671,
          738,
          678,
          1410,
          879,
          770,
          1812,
          1247,
          825,
          799,
          650,
          673,
          733,
          780,
          844,
          656,
          671,
          670,
          875,
          947,
          670,
          809,
          791,
          747,
          1646,
          952,
          830,
          886,
          1890,
          929,
          826,
          717,
          650,
          869,
          1145,
          909,
          691,
          1600,
          671,
          672,
          715
         ],
         "yaxis": "y"
        },
        {
         "customdata": [
          [
           "2018"
          ],
          [
           "2018"
          ],
          [
           "2018"
          ],
          [
           "2018"
          ],
          [
           "2018"
          ],
          [
           "2018"
          ],
          [
           "2018"
          ],
          [
           "2018"
          ],
          [
           "2018"
          ],
          [
           "2018"
          ],
          [
           "2018"
          ],
          [
           "2018"
          ],
          [
           "2018"
          ],
          [
           "2018"
          ],
          [
           "2018"
          ],
          [
           "2018"
          ],
          [
           "2018"
          ],
          [
           "2018"
          ],
          [
           "2018"
          ],
          [
           "2018"
          ],
          [
           "2018"
          ],
          [
           "2018"
          ],
          [
           "2018"
          ],
          [
           "2018"
          ],
          [
           "2018"
          ],
          [
           "2018"
          ],
          [
           "2018"
          ],
          [
           "2018"
          ],
          [
           "2018"
          ],
          [
           "2018"
          ],
          [
           "2018"
          ],
          [
           "2018"
          ],
          [
           "2018"
          ],
          [
           "2018"
          ],
          [
           "2018"
          ],
          [
           "2018"
          ],
          [
           "2018"
          ],
          [
           "2018"
          ],
          [
           "2018"
          ],
          [
           "2018"
          ],
          [
           "2018"
          ],
          [
           "2018"
          ],
          [
           "2018"
          ],
          [
           "2017"
          ],
          [
           "2017"
          ],
          [
           "2017"
          ],
          [
           "2017"
          ],
          [
           "2017"
          ],
          [
           "2017"
          ],
          [
           "2017"
          ],
          [
           "2017"
          ],
          [
           "2017"
          ],
          [
           "2017"
          ],
          [
           "2017"
          ],
          [
           "2017"
          ],
          [
           "2017"
          ],
          [
           "2017"
          ],
          [
           "2017"
          ],
          [
           "2017"
          ],
          [
           "2017"
          ],
          [
           "2017"
          ],
          [
           "2017"
          ],
          [
           "2017"
          ],
          [
           "2017"
          ],
          [
           "2017"
          ],
          [
           "2017"
          ],
          [
           "2017"
          ],
          [
           "2017"
          ],
          [
           "2017"
          ],
          [
           "2017"
          ],
          [
           "2017"
          ],
          [
           "2017"
          ],
          [
           "2017"
          ],
          [
           "2017"
          ],
          [
           "2017"
          ],
          [
           "2017"
          ],
          [
           "2017"
          ],
          [
           "2017"
          ],
          [
           "2017"
          ],
          [
           "2016"
          ],
          [
           "2016"
          ],
          [
           "2016"
          ],
          [
           "2016"
          ],
          [
           "2016"
          ],
          [
           "2016"
          ],
          [
           "2016"
          ],
          [
           "2016"
          ],
          [
           "2016"
          ],
          [
           "2016"
          ],
          [
           "2016"
          ],
          [
           "2016"
          ],
          [
           "2016"
          ],
          [
           "2016"
          ],
          [
           "2016"
          ],
          [
           "2016"
          ],
          [
           "2016"
          ],
          [
           "2016"
          ],
          [
           "2016"
          ],
          [
           "2016"
          ],
          [
           "2016"
          ],
          [
           "2016"
          ],
          [
           "2016"
          ],
          [
           "2016"
          ],
          [
           "2016"
          ],
          [
           "2016"
          ],
          [
           "2016"
          ],
          [
           "2016"
          ],
          [
           "2016"
          ],
          [
           "2016"
          ],
          [
           "2016"
          ],
          [
           "2016"
          ],
          [
           "2016"
          ],
          [
           "2016"
          ],
          [
           "2016"
          ],
          [
           "2016"
          ],
          [
           "2016"
          ],
          [
           "2016"
          ],
          [
           "2016"
          ],
          [
           "2016"
          ],
          [
           "2016"
          ],
          [
           "2016"
          ],
          [
           "2016"
          ],
          [
           "2015"
          ],
          [
           "2015"
          ],
          [
           "2015"
          ],
          [
           "2015"
          ],
          [
           "2015"
          ],
          [
           "2015"
          ],
          [
           "2015"
          ],
          [
           "2015"
          ],
          [
           "2015"
          ],
          [
           "2015"
          ],
          [
           "2015"
          ],
          [
           "2015"
          ],
          [
           "2015"
          ],
          [
           "2015"
          ],
          [
           "2015"
          ],
          [
           "2015"
          ],
          [
           "2015"
          ],
          [
           "2015"
          ],
          [
           "2015"
          ],
          [
           "2015"
          ],
          [
           "2015"
          ],
          [
           "2015"
          ],
          [
           "2015"
          ],
          [
           "2015"
          ],
          [
           "2015"
          ],
          [
           "2015"
          ],
          [
           "2015"
          ],
          [
           "2015"
          ],
          [
           "2015"
          ],
          [
           "2015"
          ],
          [
           "2015"
          ],
          [
           "2015"
          ],
          [
           "2015"
          ],
          [
           "2015"
          ],
          [
           "2015"
          ],
          [
           "2015"
          ],
          [
           "2015"
          ],
          [
           "2015"
          ],
          [
           "2015"
          ],
          [
           "2015"
          ],
          [
           "2015"
          ],
          [
           "2015"
          ],
          [
           "2015"
          ],
          [
           "2015"
          ],
          [
           "2015"
          ],
          [
           "2015"
          ],
          [
           "2015"
          ],
          [
           "2015"
          ],
          [
           "2015"
          ],
          [
           "2015"
          ],
          [
           "2015"
          ],
          [
           "2015"
          ],
          [
           "2015"
          ],
          [
           "2014"
          ],
          [
           "2014"
          ],
          [
           "2014"
          ],
          [
           "2014"
          ],
          [
           "2014"
          ],
          [
           "2014"
          ],
          [
           "2014"
          ],
          [
           "2014"
          ],
          [
           "2014"
          ],
          [
           "2014"
          ],
          [
           "2014"
          ],
          [
           "2014"
          ],
          [
           "2014"
          ],
          [
           "2014"
          ],
          [
           "2014"
          ],
          [
           "2014"
          ],
          [
           "2014"
          ],
          [
           "2014"
          ],
          [
           "2014"
          ],
          [
           "2014"
          ],
          [
           "2014"
          ],
          [
           "2014"
          ],
          [
           "2014"
          ],
          [
           "2014"
          ],
          [
           "2014"
          ],
          [
           "2014"
          ],
          [
           "2014"
          ],
          [
           "2014"
          ],
          [
           "2014"
          ],
          [
           "2014"
          ],
          [
           "2014"
          ],
          [
           "2014"
          ],
          [
           "2014"
          ],
          [
           "2014"
          ],
          [
           "2014"
          ],
          [
           "2014"
          ],
          [
           "2014"
          ],
          [
           "2014"
          ],
          [
           "2014"
          ],
          [
           "2014"
          ],
          [
           "2014"
          ],
          [
           "2014"
          ],
          [
           "2014"
          ],
          [
           "2014"
          ],
          [
           "2014"
          ],
          [
           "2014"
          ],
          [
           "2014"
          ],
          [
           "2014"
          ]
         ],
         "hovertemplate": "age_category=5-10<br>magnitude=%{x}<br>sig=%{y}<br>date_time=%{customdata[0]}<extra></extra>",
         "legendgroup": "5-10",
         "marker": {
          "color": "#000002",
          "symbol": "circle"
         },
         "mode": "markers",
         "name": "5-10",
         "orientation": "v",
         "showlegend": true,
         "type": "scatter",
         "x": [
          7,
          7.3,
          7.1,
          6.6,
          7.5,
          7.1,
          6.8,
          6.7,
          6.8,
          6.5,
          6.8,
          6.5,
          6.5,
          6.7,
          6.5,
          7,
          6.7,
          7.5,
          6.5,
          6.9,
          6.5,
          7.9,
          6.6,
          7.1,
          7.1,
          6.5,
          7.3,
          6.9,
          8.2,
          6.5,
          6.5,
          6.9,
          6.9,
          6.8,
          6.9,
          6.7,
          6.8,
          6.7,
          7.5,
          7.2,
          7.9,
          7.1,
          7.5,
          6.5,
          6.5,
          7,
          6.6,
          6.5,
          7.3,
          6.5,
          6.8,
          6.6,
          6.7,
          6.7,
          6.5,
          7.1,
          8.2,
          6.5,
          6.6,
          7.7,
          6.6,
          6.5,
          6.8,
          6.9,
          6.8,
          6.6,
          6.5,
          6.8,
          6.9,
          6.9,
          6.5,
          6.6,
          6.9,
          6.5,
          6.5,
          7.9,
          6.5,
          7.3,
          6.9,
          7.6,
          6.7,
          7.9,
          6.9,
          6.5,
          7.8,
          6.6,
          6.5,
          6.6,
          6.9,
          6.9,
          6.5,
          6.5,
          7.8,
          6.6,
          6.6,
          6.8,
          6.9,
          7,
          6.8,
          6.8,
          7.2,
          7.7,
          6.6,
          7.2,
          6.9,
          6.9,
          6.7,
          7,
          7.8,
          7,
          6.9,
          6.6,
          6.7,
          6.7,
          6.9,
          7.8,
          7.2,
          7.1,
          6.6,
          6.7,
          6.5,
          6.7,
          6.6,
          6.9,
          7.2,
          6.7,
          7.6,
          7.6,
          6.8,
          6.5,
          6.7,
          6.9,
          6.9,
          6.6,
          6.8,
          6.5,
          7.5,
          7.1,
          6.6,
          6.6,
          6.7,
          6.5,
          7,
          8.3,
          6.7,
          6.5,
          6.6,
          7,
          6.9,
          7,
          6.5,
          6.7,
          6.5,
          7.8,
          6.8,
          6.8,
          6.9,
          6.8,
          6.8,
          7.3,
          7.1,
          7.5,
          6.8,
          6.7,
          6.7,
          6.6,
          7.8,
          6.5,
          6.5,
          7.5,
          7,
          6.7,
          6.7,
          6.8,
          6.5,
          6.6,
          6.6,
          6.6,
          6.8,
          6.5,
          6.7,
          7.1,
          6.6,
          7.1,
          7.3,
          6.7,
          6.8,
          6.9,
          6.9,
          6.5,
          6.9,
          6.5,
          6.7,
          6.9,
          7.9,
          6.7,
          6.5,
          6.9,
          6.9,
          6.5,
          6.6,
          6.5,
          7.5,
          6.6,
          7.2,
          6.6,
          7.4,
          7.6,
          6.6,
          6.5,
          7.1,
          7.7,
          6.5,
          6.9,
          8.2,
          6.7,
          6.8,
          6.5,
          6.5,
          6.9,
          6.5,
          6.5,
          6.5
         ],
         "xaxis": "x",
         "y": [
          803,
          822,
          776,
          670,
          871,
          1790,
          711,
          693,
          954,
          655,
          776,
          669,
          650,
          691,
          650,
          758,
          691,
          2026,
          651,
          735,
          651,
          979,
          1075,
          776,
          776,
          652,
          1570,
          1206,
          1050,
          743,
          655,
          1704,
          1392,
          733,
          741,
          696,
          719,
          697,
          943,
          1384,
          1870,
          1075,
          1623,
          998,
          651,
          771,
          676,
          1153,
          2790,
          661,
          727,
          674,
          691,
          694,
          651,
          1686,
          2910,
          707,
          1064,
          918,
          704,
          740,
          1034,
          1188,
          711,
          678,
          650,
          713,
          814,
          1642,
          1297,
          671,
          733,
          653,
          718,
          987,
          654,
          849,
          742,
          1152,
          726,
          972,
          737,
          650,
          961,
          1120,
          731,
          693,
          855,
          1144,
          664,
          656,
          1545,
          2840,
          677,
          716,
          733,
          897,
          713,
          981,
          799,
          971,
          671,
          798,
          733,
          780,
          744,
          755,
          1163,
          2074,
          903,
          738,
          692,
          691,
          734,
          948,
          799,
          1496,
          673,
          717,
          651,
          1515,
          765,
          738,
          827,
          691,
          896,
          957,
          715,
          1018,
          702,
          744,
          761,
          675,
          841,
          657,
          1448,
          780,
          671,
          820,
          718,
          657,
          799,
          1960,
          708,
          650,
          671,
          762,
          734,
          759,
          686,
          691,
          652,
          1151,
          762,
          711,
          732,
          711,
          831,
          1563,
          776,
          869,
          714,
          692,
          1016,
          733,
          2820,
          650,
          650,
          872,
          760,
          714,
          700,
          711,
          650,
          709,
          670,
          670,
          713,
          652,
          698,
          779,
          671,
          776,
          982,
          724,
          741,
          732,
          732,
          706,
          1079,
          650,
          691,
          732,
          963,
          691,
          650,
          732,
          951,
          694,
          670,
          838,
          865,
          670,
          1017,
          670,
          842,
          889,
          677,
          650,
          776,
          1057,
          670,
          732,
          1332,
          718,
          1211,
          668,
          681,
          733,
          650,
          650,
          650
         ],
         "yaxis": "y"
        },
        {
         "customdata": [
          [
           "2013"
          ],
          [
           "2013"
          ],
          [
           "2013"
          ],
          [
           "2013"
          ],
          [
           "2013"
          ],
          [
           "2013"
          ],
          [
           "2013"
          ],
          [
           "2013"
          ],
          [
           "2013"
          ],
          [
           "2013"
          ],
          [
           "2013"
          ],
          [
           "2013"
          ],
          [
           "2013"
          ],
          [
           "2013"
          ],
          [
           "2013"
          ],
          [
           "2013"
          ],
          [
           "2013"
          ],
          [
           "2013"
          ],
          [
           "2013"
          ],
          [
           "2013"
          ],
          [
           "2013"
          ],
          [
           "2013"
          ],
          [
           "2013"
          ],
          [
           "2013"
          ],
          [
           "2013"
          ],
          [
           "2013"
          ],
          [
           "2013"
          ],
          [
           "2013"
          ],
          [
           "2013"
          ],
          [
           "2013"
          ],
          [
           "2013"
          ],
          [
           "2013"
          ],
          [
           "2013"
          ],
          [
           "2013"
          ],
          [
           "2013"
          ],
          [
           "2013"
          ],
          [
           "2013"
          ],
          [
           "2013"
          ],
          [
           "2013"
          ],
          [
           "2013"
          ],
          [
           "2013"
          ],
          [
           "2013"
          ],
          [
           "2013"
          ],
          [
           "2013"
          ],
          [
           "2013"
          ],
          [
           "2013"
          ],
          [
           "2013"
          ],
          [
           "2013"
          ],
          [
           "2013"
          ],
          [
           "2013"
          ],
          [
           "2013"
          ],
          [
           "2013"
          ],
          [
           "2013"
          ],
          [
           "2012"
          ],
          [
           "2012"
          ],
          [
           "2012"
          ],
          [
           "2012"
          ],
          [
           "2012"
          ],
          [
           "2012"
          ],
          [
           "2012"
          ],
          [
           "2012"
          ],
          [
           "2012"
          ],
          [
           "2012"
          ],
          [
           "2012"
          ],
          [
           "2012"
          ],
          [
           "2012"
          ],
          [
           "2012"
          ],
          [
           "2012"
          ],
          [
           "2012"
          ],
          [
           "2012"
          ],
          [
           "2012"
          ],
          [
           "2012"
          ],
          [
           "2012"
          ],
          [
           "2012"
          ],
          [
           "2012"
          ],
          [
           "2012"
          ],
          [
           "2012"
          ],
          [
           "2012"
          ],
          [
           "2012"
          ],
          [
           "2012"
          ],
          [
           "2012"
          ],
          [
           "2012"
          ],
          [
           "2012"
          ],
          [
           "2012"
          ],
          [
           "2011"
          ],
          [
           "2011"
          ],
          [
           "2011"
          ],
          [
           "2011"
          ],
          [
           "2011"
          ],
          [
           "2011"
          ],
          [
           "2011"
          ],
          [
           "2011"
          ],
          [
           "2011"
          ],
          [
           "2011"
          ],
          [
           "2011"
          ],
          [
           "2011"
          ],
          [
           "2011"
          ],
          [
           "2011"
          ],
          [
           "2011"
          ],
          [
           "2011"
          ],
          [
           "2011"
          ],
          [
           "2011"
          ],
          [
           "2011"
          ],
          [
           "2011"
          ],
          [
           "2011"
          ],
          [
           "2011"
          ],
          [
           "2011"
          ],
          [
           "2011"
          ],
          [
           "2011"
          ],
          [
           "2011"
          ],
          [
           "2011"
          ],
          [
           "2011"
          ],
          [
           "2011"
          ],
          [
           "2011"
          ],
          [
           "2011"
          ],
          [
           "2011"
          ],
          [
           "2011"
          ],
          [
           "2011"
          ],
          [
           "2010"
          ],
          [
           "2010"
          ],
          [
           "2010"
          ],
          [
           "2010"
          ],
          [
           "2010"
          ],
          [
           "2010"
          ],
          [
           "2010"
          ],
          [
           "2010"
          ],
          [
           "2010"
          ],
          [
           "2010"
          ],
          [
           "2010"
          ],
          [
           "2010"
          ],
          [
           "2010"
          ],
          [
           "2010"
          ],
          [
           "2010"
          ],
          [
           "2010"
          ],
          [
           "2010"
          ],
          [
           "2010"
          ],
          [
           "2010"
          ],
          [
           "2010"
          ],
          [
           "2010"
          ],
          [
           "2010"
          ],
          [
           "2010"
          ],
          [
           "2010"
          ],
          [
           "2010"
          ],
          [
           "2010"
          ],
          [
           "2010"
          ],
          [
           "2010"
          ],
          [
           "2010"
          ],
          [
           "2010"
          ],
          [
           "2010"
          ],
          [
           "2010"
          ],
          [
           "2010"
          ],
          [
           "2010"
          ],
          [
           "2010"
          ],
          [
           "2010"
          ],
          [
           "2010"
          ],
          [
           "2010"
          ],
          [
           "2010"
          ],
          [
           "2010"
          ],
          [
           "2010"
          ],
          [
           "2009"
          ],
          [
           "2009"
          ],
          [
           "2009"
          ],
          [
           "2009"
          ],
          [
           "2009"
          ],
          [
           "2009"
          ],
          [
           "2009"
          ],
          [
           "2009"
          ],
          [
           "2009"
          ],
          [
           "2009"
          ],
          [
           "2009"
          ],
          [
           "2009"
          ],
          [
           "2009"
          ],
          [
           "2009"
          ],
          [
           "2009"
          ],
          [
           "2009"
          ],
          [
           "2009"
          ],
          [
           "2009"
          ],
          [
           "2009"
          ],
          [
           "2009"
          ],
          [
           "2009"
          ],
          [
           "2009"
          ],
          [
           "2009"
          ],
          [
           "2009"
          ],
          [
           "2009"
          ],
          [
           "2009"
          ],
          [
           "2008"
          ],
          [
           "2008"
          ],
          [
           "2008"
          ],
          [
           "2008"
          ],
          [
           "2008"
          ],
          [
           "2008"
          ],
          [
           "2008"
          ],
          [
           "2008"
          ],
          [
           "2008"
          ],
          [
           "2008"
          ],
          [
           "2008"
          ],
          [
           "2008"
          ],
          [
           "2008"
          ],
          [
           "2008"
          ],
          [
           "2008"
          ],
          [
           "2008"
          ],
          [
           "2008"
          ],
          [
           "2008"
          ],
          [
           "2008"
          ],
          [
           "2008"
          ],
          [
           "2008"
          ],
          [
           "2008"
          ],
          [
           "2008"
          ],
          [
           "2008"
          ],
          [
           "2008"
          ],
          [
           "2007"
          ],
          [
           "2007"
          ],
          [
           "2007"
          ],
          [
           "2007"
          ],
          [
           "2007"
          ],
          [
           "2007"
          ],
          [
           "2007"
          ],
          [
           "2007"
          ],
          [
           "2007"
          ],
          [
           "2007"
          ],
          [
           "2007"
          ],
          [
           "2007"
          ],
          [
           "2007"
          ],
          [
           "2007"
          ],
          [
           "2007"
          ],
          [
           "2007"
          ],
          [
           "2007"
          ],
          [
           "2007"
          ],
          [
           "2007"
          ],
          [
           "2007"
          ],
          [
           "2007"
          ],
          [
           "2007"
          ],
          [
           "2007"
          ],
          [
           "2007"
          ],
          [
           "2007"
          ],
          [
           "2007"
          ],
          [
           "2007"
          ],
          [
           "2007"
          ],
          [
           "2007"
          ],
          [
           "2007"
          ],
          [
           "2007"
          ],
          [
           "2007"
          ],
          [
           "2007"
          ],
          [
           "2007"
          ],
          [
           "2007"
          ],
          [
           "2007"
          ],
          [
           "2007"
          ],
          [
           "2006"
          ],
          [
           "2006"
          ],
          [
           "2006"
          ],
          [
           "2006"
          ],
          [
           "2006"
          ],
          [
           "2006"
          ],
          [
           "2006"
          ],
          [
           "2006"
          ],
          [
           "2006"
          ],
          [
           "2006"
          ],
          [
           "2006"
          ],
          [
           "2006"
          ],
          [
           "2006"
          ],
          [
           "2006"
          ],
          [
           "2006"
          ],
          [
           "2006"
          ],
          [
           "2006"
          ],
          [
           "2006"
          ],
          [
           "2006"
          ],
          [
           "2006"
          ],
          [
           "2006"
          ],
          [
           "2006"
          ],
          [
           "2006"
          ],
          [
           "2006"
          ],
          [
           "2006"
          ],
          [
           "2006"
          ],
          [
           "2005"
          ],
          [
           "2005"
          ],
          [
           "2005"
          ],
          [
           "2005"
          ],
          [
           "2005"
          ],
          [
           "2005"
          ],
          [
           "2005"
          ],
          [
           "2005"
          ],
          [
           "2005"
          ],
          [
           "2005"
          ],
          [
           "2005"
          ],
          [
           "2005"
          ],
          [
           "2005"
          ],
          [
           "2005"
          ],
          [
           "2005"
          ],
          [
           "2005"
          ],
          [
           "2005"
          ],
          [
           "2005"
          ],
          [
           "2005"
          ],
          [
           "2005"
          ],
          [
           "2005"
          ],
          [
           "2005"
          ],
          [
           "2005"
          ],
          [
           "2005"
          ],
          [
           "2005"
          ],
          [
           "2005"
          ],
          [
           "2005"
          ],
          [
           "2005"
          ],
          [
           "2004"
          ],
          [
           "2004"
          ],
          [
           "2004"
          ],
          [
           "2004"
          ],
          [
           "2004"
          ],
          [
           "2004"
          ],
          [
           "2004"
          ],
          [
           "2004"
          ],
          [
           "2004"
          ],
          [
           "2004"
          ],
          [
           "2004"
          ],
          [
           "2004"
          ],
          [
           "2004"
          ],
          [
           "2004"
          ],
          [
           "2004"
          ],
          [
           "2004"
          ],
          [
           "2004"
          ],
          [
           "2004"
          ],
          [
           "2004"
          ],
          [
           "2004"
          ],
          [
           "2004"
          ],
          [
           "2004"
          ],
          [
           "2004"
          ],
          [
           "2004"
          ],
          [
           "2004"
          ],
          [
           "2004"
          ],
          [
           "2004"
          ],
          [
           "2004"
          ],
          [
           "2004"
          ],
          [
           "2004"
          ],
          [
           "2004"
          ],
          [
           "2004"
          ]
         ],
         "hovertemplate": "age_category=10-20<br>magnitude=%{x}<br>sig=%{y}<br>date_time=%{customdata[0]}<extra></extra>",
         "legendgroup": "10-20",
         "marker": {
          "color": "#000003",
          "symbol": "circle"
         },
         "mode": "markers",
         "name": "10-20",
         "orientation": "v",
         "showlegend": true,
         "type": "scatter",
         "x": [
          6.5,
          7.7,
          6.9,
          6.6,
          7.1,
          6.6,
          6.8,
          7.1,
          6.6,
          6.7,
          6.5,
          6.8,
          7.1,
          7.7,
          6.5,
          6.5,
          6.5,
          7,
          6.5,
          6.7,
          6.5,
          7.3,
          6.6,
          7.3,
          6.6,
          6.5,
          6.7,
          6.7,
          8.3,
          7.4,
          6.8,
          6.5,
          6.6,
          7.2,
          6.6,
          7.7,
          6.6,
          7,
          6.5,
          6.5,
          6.9,
          6.6,
          6.6,
          6.9,
          7.1,
          6.8,
          6.7,
          7,
          7.1,
          8,
          6.9,
          6.8,
          7.5,
          6.7,
          7.1,
          7.3,
          6.5,
          6.8,
          7.4,
          7.8,
          6.5,
          6.6,
          7.3,
          7.6,
          7.6,
          7.3,
          6.6,
          7.7,
          6.5,
          6.6,
          6.7,
          6.8,
          6.7,
          7,
          6.5,
          8.2,
          8.6,
          7.1,
          6.6,
          7.4,
          6.7,
          6.7,
          7.1,
          7.2,
          6.6,
          7.1,
          6.5,
          6.9,
          7.1,
          6.5,
          6.9,
          6.7,
          6.7,
          7,
          7,
          7.1,
          6.5,
          7.2,
          6.6,
          7.6,
          6.7,
          6.8,
          6.8,
          6.6,
          7.1,
          6.6,
          6.9,
          6.6,
          6.5,
          7.7,
          7.9,
          9.1,
          7.3,
          6.7,
          6.9,
          7.2,
          7,
          7.2,
          7.3,
          6.7,
          6.6,
          7.8,
          6.7,
          7,
          7,
          7.1,
          7.3,
          7,
          6.5,
          7.6,
          7.3,
          6.9,
          6.6,
          6.7,
          6.6,
          7,
          7.5,
          7.2,
          7.2,
          6.9,
          6.9,
          7.8,
          7.2,
          6.6,
          6.7,
          6.5,
          7,
          6.9,
          6.8,
          6.6,
          6.5,
          7.4,
          8.8,
          7,
          7,
          6.5,
          6.8,
          7.1,
          6.6,
          6.5,
          7.3,
          6.6,
          6.8,
          6.9,
          6.8,
          7.4,
          7.8,
          7.7,
          6.6,
          7.6,
          8.1,
          7,
          6.7,
          6.6,
          7.5,
          7.1,
          6.9,
          7.8,
          6.7,
          7.3,
          7.6,
          7.2,
          7.4,
          6.6,
          7.7,
          7.4,
          6.7,
          6.7,
          6.8,
          6.6,
          6.9,
          6.7,
          6.8,
          7,
          6.9,
          6.6,
          6.9,
          7.9,
          6.9,
          7.3,
          7.2,
          6.9,
          6.7,
          6.6,
          7.2,
          6.5,
          7.4,
          6.5,
          6.9,
          6.5,
          6.6,
          6.7,
          7.4,
          6.6,
          6.5,
          6.5,
          6.8,
          6.8,
          6.8,
          7.7,
          6.8,
          6.8,
          6.8,
          6.7,
          7,
          6.5,
          7.9,
          7.8,
          8.4,
          6.8,
          7.2,
          6.5,
          8,
          7.5,
          7.2,
          6.9,
          6.8,
          6.6,
          6.7,
          6.9,
          6.6,
          8.1,
          6.7,
          7.1,
          6.7,
          7.5,
          8.1,
          6.9,
          7.1,
          8.3,
          6.6,
          6.7,
          6.7,
          6.7,
          6.9,
          6.8,
          6.5,
          6.8,
          7.7,
          6.5,
          6.6,
          6.8,
          8,
          8,
          6.5,
          6.7,
          6.6,
          7.6,
          6.5,
          6.7,
          7,
          6.7,
          6.6,
          6.5,
          6.8,
          6.5,
          6.5,
          6.8,
          7.6,
          6.6,
          7.5,
          7.6,
          7.2,
          7.2,
          6.7,
          6.6,
          7.2,
          7.8,
          6.9,
          6.7,
          6.5,
          6.7,
          8.6,
          6.6,
          7.1,
          6.8,
          6.5,
          6.5,
          6.7,
          7.1,
          6.6,
          6.6,
          7.2,
          9.1,
          8.1,
          6.8,
          6.8,
          7,
          7.1,
          7.1,
          7.2,
          7.5,
          6.7,
          6.7,
          6.6,
          6.7,
          7,
          6.5,
          6.8,
          6.6,
          7.4,
          7.2,
          6.5,
          6.5,
          6.9,
          6.6,
          6.7,
          6.5,
          6.6,
          6.7,
          7.3,
          7,
          6.7
         ],
         "xaxis": "x",
         "y": [
          651,
          912,
          732,
          723,
          872,
          692,
          711,
          1092,
          691,
          691,
          650,
          1005,
          843,
          2015,
          650,
          739,
          668,
          758,
          690,
          715,
          693,
          820,
          674,
          820,
          670,
          679,
          710,
          691,
          1115,
          842,
          711,
          650,
          2083,
          804,
          672,
          1421,
          670,
          755,
          650,
          651,
          736,
          670,
          670,
          904,
          780,
          711,
          691,
          754,
          776,
          993,
          814,
          771,
          1425,
          691,
          843,
          1014,
          708,
          795,
          1455,
          1726,
          745,
          675,
          1221,
          1555,
          1115,
          994,
          678,
          941,
          653,
          675,
          691,
          732,
          691,
          1000,
          1171,
          1213,
          2048,
          1496,
          709,
          1752,
          833,
          1551,
          793,
          838,
          670,
          834,
          1400,
          847,
          1096,
          655,
          1562,
          712,
          915,
          761,
          913,
          787,
          650,
          813,
          674,
          893,
          749,
          734,
          719,
          822,
          1114,
          897,
          1154,
          673,
          650,
          931,
          1140,
          2184,
          972,
          731,
          988,
          1449,
          755,
          1054,
          820,
          708,
          670,
          946,
          776,
          772,
          1245,
          945,
          850,
          757,
          659,
          902,
          831,
          737,
          753,
          696,
          670,
          755,
          1144,
          804,
          918,
          773,
          740,
          936,
          2910,
          701,
          856,
          810,
          874,
          1280,
          717,
          736,
          650,
          842,
          1991,
          1180,
          1623,
          1360,
          713,
          780,
          672,
          698,
          820,
          677,
          711,
          972,
          711,
          842,
          936,
          916,
          787,
          1639,
          1055,
          1175,
          753,
          703,
          1248,
          1005,
          1202,
          1165,
          693,
          1560,
          916,
          802,
          846,
          765,
          918,
          848,
          731,
          691,
          711,
          670,
          732,
          692,
          1046,
          840,
          825,
          680,
          888,
          1870,
          910,
          820,
          798,
          740,
          696,
          674,
          832,
          654,
          914,
          692,
          941,
          723,
          808,
          704,
          1542,
          672,
          653,
          657,
          722,
          790,
          716,
          995,
          713,
          744,
          713,
          696,
          768,
          650,
          1133,
          1152,
          1086,
          747,
          798,
          675,
          1385,
          865,
          803,
          734,
          779,
          831,
          972,
          732,
          670,
          1025,
          782,
          779,
          691,
          874,
          1034,
          798,
          1023,
          1064,
          670,
          732,
          692,
          1481,
          737,
          711,
          650,
          713,
          947,
          650,
          670,
          719,
          1013,
          1026,
          653,
          696,
          670,
          889,
          654,
          691,
          891,
          934,
          703,
          721,
          744,
          683,
          651,
          711,
          1267,
          670,
          1018,
          891,
          1104,
          808,
          693,
          719,
          1318,
          1020,
          740,
          731,
          657,
          717,
          1138,
          805,
          776,
          711,
          650,
          652,
          691,
          782,
          676,
          670,
          802,
          1274,
          1009,
          858,
          724,
          771,
          776,
          782,
          820,
          870,
          691,
          703,
          670,
          705,
          754,
          665,
          711,
          670,
          842,
          798,
          650,
          650,
          732,
          670,
          691,
          650,
          670,
          691,
          820,
          754,
          691
         ],
         "yaxis": "y"
        },
        {
         "customdata": [
          [
           "2003"
          ],
          [
           "2003"
          ],
          [
           "2003"
          ],
          [
           "2003"
          ],
          [
           "2003"
          ],
          [
           "2003"
          ],
          [
           "2003"
          ],
          [
           "2003"
          ],
          [
           "2003"
          ],
          [
           "2003"
          ],
          [
           "2003"
          ],
          [
           "2003"
          ],
          [
           "2003"
          ],
          [
           "2003"
          ],
          [
           "2003"
          ],
          [
           "2003"
          ],
          [
           "2003"
          ],
          [
           "2003"
          ],
          [
           "2003"
          ],
          [
           "2003"
          ],
          [
           "2003"
          ],
          [
           "2003"
          ],
          [
           "2003"
          ],
          [
           "2003"
          ],
          [
           "2003"
          ],
          [
           "2003"
          ],
          [
           "2003"
          ],
          [
           "2003"
          ],
          [
           "2003"
          ],
          [
           "2003"
          ],
          [
           "2003"
          ],
          [
           "2002"
          ],
          [
           "2002"
          ],
          [
           "2002"
          ],
          [
           "2002"
          ],
          [
           "2002"
          ],
          [
           "2002"
          ],
          [
           "2002"
          ],
          [
           "2002"
          ],
          [
           "2002"
          ],
          [
           "2002"
          ],
          [
           "2002"
          ],
          [
           "2002"
          ],
          [
           "2002"
          ],
          [
           "2002"
          ],
          [
           "2002"
          ],
          [
           "2002"
          ],
          [
           "2002"
          ],
          [
           "2002"
          ],
          [
           "2002"
          ],
          [
           "2002"
          ],
          [
           "2002"
          ],
          [
           "2002"
          ],
          [
           "2002"
          ],
          [
           "2002"
          ],
          [
           "2002"
          ],
          [
           "2001"
          ],
          [
           "2001"
          ],
          [
           "2001"
          ],
          [
           "2001"
          ],
          [
           "2001"
          ],
          [
           "2001"
          ],
          [
           "2001"
          ],
          [
           "2001"
          ],
          [
           "2001"
          ],
          [
           "2001"
          ],
          [
           "2001"
          ],
          [
           "2001"
          ],
          [
           "2001"
          ],
          [
           "2001"
          ],
          [
           "2001"
          ],
          [
           "2001"
          ],
          [
           "2001"
          ],
          [
           "2001"
          ],
          [
           "2001"
          ],
          [
           "2001"
          ],
          [
           "2001"
          ],
          [
           "2001"
          ],
          [
           "2001"
          ],
          [
           "2001"
          ],
          [
           "2001"
          ],
          [
           "2001"
          ],
          [
           "2001"
          ],
          [
           "2001"
          ]
         ],
         "hovertemplate": "age_category=>20<br>magnitude=%{x}<br>sig=%{y}<br>date_time=%{customdata[0]}<extra></extra>",
         "legendgroup": ">20",
         "marker": {
          "color": "#000004",
          "symbol": "circle"
         },
         "mode": "markers",
         "name": ">20",
         "orientation": "v",
         "showlegend": true,
         "type": "scatter",
         "x": [
          7.3,
          6.6,
          6.5,
          6.5,
          6.8,
          6.6,
          6.5,
          6.6,
          7,
          6.7,
          6.7,
          6.5,
          7.3,
          7.4,
          8.16,
          6.6,
          7.2,
          7.6,
          6.5,
          6.8,
          6.9,
          6.6,
          7,
          7,
          6.8,
          6.5,
          6.8,
          7.6,
          6.5,
          7.3,
          6.7,
          6.7,
          7.9,
          7.4,
          6.6,
          6.7,
          7.6,
          6.5,
          7.6,
          6.5,
          6.5,
          6.5,
          6.6,
          6.7,
          7.1,
          6.7,
          6.8,
          7.1,
          6.5,
          7.5,
          7.4,
          6.6,
          6.5,
          6.7,
          6.6,
          7.2,
          6.8,
          6.8,
          6.5,
          7.8,
          7,
          7.5,
          7,
          6.5,
          6.6,
          6.5,
          7.6,
          6.6,
          6.7,
          8.4,
          6.7,
          6.8,
          6.5,
          6.8,
          7.1,
          7.4,
          6.6,
          7.7,
          6.9,
          7.7,
          6.9,
          7.1,
          6.8,
          7.5
         ],
         "xaxis": "x",
         "y": [
          820,
          670,
          650,
          1390,
          711,
          670,
          650,
          670,
          754,
          691,
          691,
          650,
          820,
          842,
          1024,
          670,
          798,
          889,
          650,
          711,
          732,
          670,
          754,
          754,
          711,
          650,
          711,
          889,
          650,
          820,
          691,
          691,
          1750,
          842,
          670,
          691,
          889,
          650,
          889,
          650,
          650,
          650,
          670,
          691,
          776,
          691,
          711,
          776,
          650,
          865,
          842,
          670,
          650,
          691,
          670,
          798,
          711,
          711,
          650,
          936,
          754,
          865,
          754,
          650,
          754,
          650,
          889,
          670,
          691,
          1086,
          691,
          711,
          650,
          1441,
          776,
          842,
          670,
          912,
          732,
          912,
          745,
          776,
          711,
          865
         ],
         "yaxis": "y"
        }
       ],
       "layout": {
        "legend": {
         "title": {
          "text": "age_category"
         },
         "tracegroupgap": 0
        },
        "margin": {
         "t": 60
        },
        "template": {
         "data": {
          "candlestick": [
           {
            "decreasing": {
             "line": {
              "color": "#000033"
             }
            },
            "increasing": {
             "line": {
              "color": "#000032"
             }
            },
            "type": "candlestick"
           }
          ],
          "contour": [
           {
            "colorscale": [
             [
              0,
              "#000011"
             ],
             [
              0.1111111111111111,
              "#000012"
             ],
             [
              0.2222222222222222,
              "#000013"
             ],
             [
              0.3333333333333333,
              "#000014"
             ],
             [
              0.4444444444444444,
              "#000015"
             ],
             [
              0.5555555555555556,
              "#000016"
             ],
             [
              0.6666666666666666,
              "#000017"
             ],
             [
              0.7777777777777778,
              "#000018"
             ],
             [
              0.8888888888888888,
              "#000019"
             ],
             [
              1,
              "#000020"
             ]
            ],
            "type": "contour"
           }
          ],
          "contourcarpet": [
           {
            "colorscale": [
             [
              0,
              "#000011"
             ],
             [
              0.1111111111111111,
              "#000012"
             ],
             [
              0.2222222222222222,
              "#000013"
             ],
             [
              0.3333333333333333,
              "#000014"
             ],
             [
              0.4444444444444444,
              "#000015"
             ],
             [
              0.5555555555555556,
              "#000016"
             ],
             [
              0.6666666666666666,
              "#000017"
             ],
             [
              0.7777777777777778,
              "#000018"
             ],
             [
              0.8888888888888888,
              "#000019"
             ],
             [
              1,
              "#000020"
             ]
            ],
            "type": "contourcarpet"
           }
          ],
          "heatmap": [
           {
            "colorscale": [
             [
              0,
              "#000011"
             ],
             [
              0.1111111111111111,
              "#000012"
             ],
             [
              0.2222222222222222,
              "#000013"
             ],
             [
              0.3333333333333333,
              "#000014"
             ],
             [
              0.4444444444444444,
              "#000015"
             ],
             [
              0.5555555555555556,
              "#000016"
             ],
             [
              0.6666666666666666,
              "#000017"
             ],
             [
              0.7777777777777778,
              "#000018"
             ],
             [
              0.8888888888888888,
              "#000019"
             ],
             [
              1,
              "#000020"
             ]
            ],
            "type": "heatmap"
           }
          ],
          "histogram2d": [
           {
            "colorscale": [
             [
              0,
              "#000011"
             ],
             [
              0.1111111111111111,
              "#000012"
             ],
             [
              0.2222222222222222,
              "#000013"
             ],
             [
              0.3333333333333333,
              "#000014"
             ],
             [
              0.4444444444444444,
              "#000015"
             ],
             [
              0.5555555555555556,
              "#000016"
             ],
             [
              0.6666666666666666,
              "#000017"
             ],
             [
              0.7777777777777778,
              "#000018"
             ],
             [
              0.8888888888888888,
              "#000019"
             ],
             [
              1,
              "#000020"
             ]
            ],
            "type": "histogram2d"
           }
          ],
          "icicle": [
           {
            "textfont": {
             "color": "white"
            },
            "type": "icicle"
           }
          ],
          "sankey": [
           {
            "textfont": {
             "color": "#000036"
            },
            "type": "sankey"
           }
          ],
          "scatter": [
           {
            "marker": {
             "line": {
              "width": 0
             }
            },
            "type": "scatter"
           }
          ],
          "table": [
           {
            "cells": {
             "fill": {
              "color": "#000038"
             },
             "font": {
              "color": "#000037"
             },
             "line": {
              "color": "#000039"
             }
            },
            "header": {
             "fill": {
              "color": "#000040"
             },
             "font": {
              "color": "#000036"
             },
             "line": {
              "color": "#000039"
             }
            },
            "type": "table"
           }
          ],
          "waterfall": [
           {
            "connector": {
             "line": {
              "color": "#000036",
              "width": 2
             }
            },
            "decreasing": {
             "marker": {
              "color": "#000033"
             }
            },
            "increasing": {
             "marker": {
              "color": "#000032"
             }
            },
            "totals": {
             "marker": {
              "color": "#000034"
             }
            },
            "type": "waterfall"
           }
          ]
         },
         "layout": {
          "coloraxis": {
           "colorscale": [
            [
             0,
             "#000011"
            ],
            [
             0.1111111111111111,
             "#000012"
            ],
            [
             0.2222222222222222,
             "#000013"
            ],
            [
             0.3333333333333333,
             "#000014"
            ],
            [
             0.4444444444444444,
             "#000015"
            ],
            [
             0.5555555555555556,
             "#000016"
            ],
            [
             0.6666666666666666,
             "#000017"
            ],
            [
             0.7777777777777778,
             "#000018"
            ],
            [
             0.8888888888888888,
             "#000019"
            ],
            [
             1,
             "#000020"
            ]
           ]
          },
          "colorscale": {
           "diverging": [
            [
             0,
             "#000021"
            ],
            [
             0.1,
             "#000022"
            ],
            [
             0.2,
             "#000023"
            ],
            [
             0.3,
             "#000024"
            ],
            [
             0.4,
             "#000025"
            ],
            [
             0.5,
             "#000026"
            ],
            [
             0.6,
             "#000027"
            ],
            [
             0.7,
             "#000028"
            ],
            [
             0.8,
             "#000029"
            ],
            [
             0.9,
             "#000030"
            ],
            [
             1,
             "#000031"
            ]
           ],
           "sequential": [
            [
             0,
             "#000011"
            ],
            [
             0.1111111111111111,
             "#000012"
            ],
            [
             0.2222222222222222,
             "#000013"
            ],
            [
             0.3333333333333333,
             "#000014"
            ],
            [
             0.4444444444444444,
             "#000015"
            ],
            [
             0.5555555555555556,
             "#000016"
            ],
            [
             0.6666666666666666,
             "#000017"
            ],
            [
             0.7777777777777778,
             "#000018"
            ],
            [
             0.8888888888888888,
             "#000019"
            ],
            [
             1,
             "#000020"
            ]
           ],
           "sequentialminus": [
            [
             0,
             "#000011"
            ],
            [
             0.1111111111111111,
             "#000012"
            ],
            [
             0.2222222222222222,
             "#000013"
            ],
            [
             0.3333333333333333,
             "#000014"
            ],
            [
             0.4444444444444444,
             "#000015"
            ],
            [
             0.5555555555555556,
             "#000016"
            ],
            [
             0.6666666666666666,
             "#000017"
            ],
            [
             0.7777777777777778,
             "#000018"
            ],
            [
             0.8888888888888888,
             "#000019"
            ],
            [
             1,
             "#000020"
            ]
           ]
          },
          "colorway": [
           "#000001",
           "#000002",
           "#000003",
           "#000004",
           "#000005",
           "#000006",
           "#000007",
           "#000008",
           "#000009",
           "#000010"
          ]
         }
        },
        "xaxis": {
         "anchor": "y",
         "domain": [
          0,
          1
         ],
         "title": {
          "text": "magnitude"
         }
        },
        "yaxis": {
         "anchor": "x",
         "domain": [
          0,
          1
         ],
         "title": {
          "text": "sig"
         }
        }
       }
      },
      "text/html": [
       "<div>                            <div id=\"49eedb87-c7e7-48a7-8e0f-dfb6bc56b7e8\" class=\"plotly-graph-div\" style=\"height:525px; width:100%;\"></div>            <script type=\"text/javascript\">                require([\"plotly\"], function(Plotly) {                    window.PLOTLYENV=window.PLOTLYENV || {};                                    if (document.getElementById(\"49eedb87-c7e7-48a7-8e0f-dfb6bc56b7e8\")) {                    Plotly.newPlot(                        \"49eedb87-c7e7-48a7-8e0f-dfb6bc56b7e8\",                        [{\"customdata\":[[\"2022\"],[\"2022\"],[\"2022\"],[\"2022\"],[\"2022\"],[\"2022\"],[\"2022\"],[\"2022\"],[\"2022\"],[\"2022\"],[\"2022\"],[\"2022\"],[\"2022\"],[\"2022\"],[\"2022\"],[\"2022\"],[\"2022\"],[\"2022\"],[\"2022\"],[\"2022\"],[\"2022\"],[\"2022\"],[\"2022\"],[\"2022\"],[\"2022\"],[\"2022\"],[\"2022\"],[\"2022\"],[\"2022\"],[\"2022\"],[\"2022\"],[\"2022\"],[\"2022\"],[\"2022\"],[\"2022\"],[\"2022\"],[\"2022\"],[\"2022\"],[\"2022\"],[\"2022\"],[\"2021\"],[\"2021\"],[\"2021\"],[\"2021\"],[\"2021\"],[\"2021\"],[\"2021\"],[\"2021\"],[\"2021\"],[\"2021\"],[\"2021\"],[\"2021\"],[\"2021\"],[\"2021\"],[\"2021\"],[\"2021\"],[\"2021\"],[\"2021\"],[\"2021\"],[\"2021\"],[\"2021\"],[\"2021\"],[\"2021\"],[\"2021\"],[\"2021\"],[\"2021\"],[\"2021\"],[\"2021\"],[\"2021\"],[\"2021\"],[\"2021\"],[\"2021\"],[\"2021\"],[\"2021\"],[\"2021\"],[\"2021\"],[\"2021\"],[\"2021\"],[\"2021\"],[\"2021\"],[\"2021\"],[\"2021\"],[\"2020\"],[\"2020\"],[\"2020\"],[\"2020\"],[\"2020\"],[\"2020\"],[\"2020\"],[\"2020\"],[\"2020\"],[\"2020\"],[\"2020\"],[\"2020\"],[\"2020\"],[\"2020\"],[\"2020\"],[\"2020\"],[\"2020\"],[\"2020\"],[\"2020\"],[\"2020\"],[\"2020\"],[\"2020\"],[\"2020\"],[\"2020\"],[\"2020\"],[\"2020\"],[\"2020\"],[\"2019\"],[\"2019\"],[\"2019\"],[\"2019\"],[\"2019\"],[\"2019\"],[\"2019\"],[\"2019\"],[\"2019\"],[\"2019\"],[\"2019\"],[\"2019\"],[\"2019\"],[\"2019\"],[\"2019\"],[\"2019\"],[\"2019\"],[\"2019\"],[\"2019\"],[\"2019\"],[\"2019\"],[\"2019\"],[\"2019\"],[\"2019\"],[\"2019\"],[\"2019\"],[\"2019\"],[\"2019\"],[\"2019\"],[\"2019\"],[\"2019\"],[\"2019\"],[\"2019\"]],\"hovertemplate\":\"age_category=\\u003c5\\u003cbr\\u003emagnitude=%{x}\\u003cbr\\u003esig=%{y}\\u003cbr\\u003edate_time=%{customdata[0]}\\u003cextra\\u003e\\u003c\\u002fextra\\u003e\",\"legendgroup\":\"\\u003c5\",\"marker\":{\"color\":\"#000001\",\"symbol\":\"circle\"},\"mode\":\"markers\",\"name\":\"\\u003c5\",\"orientation\":\"v\",\"showlegend\":true,\"x\":[7.0,6.9,7.0,7.3,6.6,7.0,6.8,6.7,6.8,7.6,6.9,6.5,7.0,7.6,6.6,6.6,7.0,6.5,7.2,6.9,6.8,6.6,7.0,6.9,6.7,7.3,6.7,6.6,6.8,6.5,6.5,6.6,6.5,6.5,6.6,6.7,6.7,6.8,6.6,6.6,7.3,7.3,7.5,6.6,6.9,6.9,7.3,6.5,7.0,7.1,6.6,6.9,6.9,7.2,6.9,6.9,8.1,7.5,7.1,8.2,8.2,6.7,6.7,6.5,6.5,7.3,6.7,6.7,6.9,6.5,6.5,7.0,6.6,6.5,8.1,7.4,7.3,7.1,7.7,6.9,7.0,6.7,6.7,7.0,7.6,6.9,6.5,6.8,6.5,6.9,6.9,6.8,6.6,7.8,7.0,6.6,7.4,7.4,6.6,6.8,6.5,6.6,6.8,6.5,6.5,7.5,7.0,7.7,6.7,6.8,7.1,6.5,6.6,6.5,6.6,6.7,6.5,6.6,6.6,6.9,6.8,6.6,7.2,6.6,6.9,7.1,7.3,7.3,6.6,8.0,7.6,7.1,6.8,6.5,7.0,7.5,6.7,6.7,6.7,6.6,6.6,6.8],\"xaxis\":\"x\",\"y\":[768,735,755,833,670,755,711,797,1179,1799,887,756,761,965,1043,672,1351,653,876,733,762,762,763,738,806,2397,708,670,712,690,651,785,650,650,674,691,691,730,976,1012,921,854,1094,688,995,740,826,684,2504,776,670,741,734,2331,738,738,1009,868,846,1237,1252,935,830,650,652,1025,698,694,919,651,652,1052,672,650,1021,843,932,1612,918,739,802,776,776,1527,1165,732,674,824,651,749,735,716,784,1111,820,684,1494,873,734,835,1320,671,738,678,1410,879,770,1812,1247,825,799,650,673,733,780,844,656,671,670,875,947,670,809,791,747,1646,952,830,886,1890,929,826,717,650,869,1145,909,691,1600,671,672,715],\"yaxis\":\"y\",\"type\":\"scatter\"},{\"customdata\":[[\"2018\"],[\"2018\"],[\"2018\"],[\"2018\"],[\"2018\"],[\"2018\"],[\"2018\"],[\"2018\"],[\"2018\"],[\"2018\"],[\"2018\"],[\"2018\"],[\"2018\"],[\"2018\"],[\"2018\"],[\"2018\"],[\"2018\"],[\"2018\"],[\"2018\"],[\"2018\"],[\"2018\"],[\"2018\"],[\"2018\"],[\"2018\"],[\"2018\"],[\"2018\"],[\"2018\"],[\"2018\"],[\"2018\"],[\"2018\"],[\"2018\"],[\"2018\"],[\"2018\"],[\"2018\"],[\"2018\"],[\"2018\"],[\"2018\"],[\"2018\"],[\"2018\"],[\"2018\"],[\"2018\"],[\"2018\"],[\"2018\"],[\"2017\"],[\"2017\"],[\"2017\"],[\"2017\"],[\"2017\"],[\"2017\"],[\"2017\"],[\"2017\"],[\"2017\"],[\"2017\"],[\"2017\"],[\"2017\"],[\"2017\"],[\"2017\"],[\"2017\"],[\"2017\"],[\"2017\"],[\"2017\"],[\"2017\"],[\"2017\"],[\"2017\"],[\"2017\"],[\"2017\"],[\"2017\"],[\"2017\"],[\"2017\"],[\"2017\"],[\"2017\"],[\"2017\"],[\"2017\"],[\"2017\"],[\"2017\"],[\"2017\"],[\"2017\"],[\"2017\"],[\"2017\"],[\"2016\"],[\"2016\"],[\"2016\"],[\"2016\"],[\"2016\"],[\"2016\"],[\"2016\"],[\"2016\"],[\"2016\"],[\"2016\"],[\"2016\"],[\"2016\"],[\"2016\"],[\"2016\"],[\"2016\"],[\"2016\"],[\"2016\"],[\"2016\"],[\"2016\"],[\"2016\"],[\"2016\"],[\"2016\"],[\"2016\"],[\"2016\"],[\"2016\"],[\"2016\"],[\"2016\"],[\"2016\"],[\"2016\"],[\"2016\"],[\"2016\"],[\"2016\"],[\"2016\"],[\"2016\"],[\"2016\"],[\"2016\"],[\"2016\"],[\"2016\"],[\"2016\"],[\"2016\"],[\"2016\"],[\"2016\"],[\"2016\"],[\"2015\"],[\"2015\"],[\"2015\"],[\"2015\"],[\"2015\"],[\"2015\"],[\"2015\"],[\"2015\"],[\"2015\"],[\"2015\"],[\"2015\"],[\"2015\"],[\"2015\"],[\"2015\"],[\"2015\"],[\"2015\"],[\"2015\"],[\"2015\"],[\"2015\"],[\"2015\"],[\"2015\"],[\"2015\"],[\"2015\"],[\"2015\"],[\"2015\"],[\"2015\"],[\"2015\"],[\"2015\"],[\"2015\"],[\"2015\"],[\"2015\"],[\"2015\"],[\"2015\"],[\"2015\"],[\"2015\"],[\"2015\"],[\"2015\"],[\"2015\"],[\"2015\"],[\"2015\"],[\"2015\"],[\"2015\"],[\"2015\"],[\"2015\"],[\"2015\"],[\"2015\"],[\"2015\"],[\"2015\"],[\"2015\"],[\"2015\"],[\"2015\"],[\"2015\"],[\"2015\"],[\"2014\"],[\"2014\"],[\"2014\"],[\"2014\"],[\"2014\"],[\"2014\"],[\"2014\"],[\"2014\"],[\"2014\"],[\"2014\"],[\"2014\"],[\"2014\"],[\"2014\"],[\"2014\"],[\"2014\"],[\"2014\"],[\"2014\"],[\"2014\"],[\"2014\"],[\"2014\"],[\"2014\"],[\"2014\"],[\"2014\"],[\"2014\"],[\"2014\"],[\"2014\"],[\"2014\"],[\"2014\"],[\"2014\"],[\"2014\"],[\"2014\"],[\"2014\"],[\"2014\"],[\"2014\"],[\"2014\"],[\"2014\"],[\"2014\"],[\"2014\"],[\"2014\"],[\"2014\"],[\"2014\"],[\"2014\"],[\"2014\"],[\"2014\"],[\"2014\"],[\"2014\"],[\"2014\"],[\"2014\"]],\"hovertemplate\":\"age_category=5-10\\u003cbr\\u003emagnitude=%{x}\\u003cbr\\u003esig=%{y}\\u003cbr\\u003edate_time=%{customdata[0]}\\u003cextra\\u003e\\u003c\\u002fextra\\u003e\",\"legendgroup\":\"5-10\",\"marker\":{\"color\":\"#000002\",\"symbol\":\"circle\"},\"mode\":\"markers\",\"name\":\"5-10\",\"orientation\":\"v\",\"showlegend\":true,\"x\":[7.0,7.3,7.1,6.6,7.5,7.1,6.8,6.7,6.8,6.5,6.8,6.5,6.5,6.7,6.5,7.0,6.7,7.5,6.5,6.9,6.5,7.9,6.6,7.1,7.1,6.5,7.3,6.9,8.2,6.5,6.5,6.9,6.9,6.8,6.9,6.7,6.8,6.7,7.5,7.2,7.9,7.1,7.5,6.5,6.5,7.0,6.6,6.5,7.3,6.5,6.8,6.6,6.7,6.7,6.5,7.1,8.2,6.5,6.6,7.7,6.6,6.5,6.8,6.9,6.8,6.6,6.5,6.8,6.9,6.9,6.5,6.6,6.9,6.5,6.5,7.9,6.5,7.3,6.9,7.6,6.7,7.9,6.9,6.5,7.8,6.6,6.5,6.6,6.9,6.9,6.5,6.5,7.8,6.6,6.6,6.8,6.9,7.0,6.8,6.8,7.2,7.7,6.6,7.2,6.9,6.9,6.7,7.0,7.8,7.0,6.9,6.6,6.7,6.7,6.9,7.8,7.2,7.1,6.6,6.7,6.5,6.7,6.6,6.9,7.2,6.7,7.6,7.6,6.8,6.5,6.7,6.9,6.9,6.6,6.8,6.5,7.5,7.1,6.6,6.6,6.7,6.5,7.0,8.3,6.7,6.5,6.6,7.0,6.9,7.0,6.5,6.7,6.5,7.8,6.8,6.8,6.9,6.8,6.8,7.3,7.1,7.5,6.8,6.7,6.7,6.6,7.8,6.5,6.5,7.5,7.0,6.7,6.7,6.8,6.5,6.6,6.6,6.6,6.8,6.5,6.7,7.1,6.6,7.1,7.3,6.7,6.8,6.9,6.9,6.5,6.9,6.5,6.7,6.9,7.9,6.7,6.5,6.9,6.9,6.5,6.6,6.5,7.5,6.6,7.2,6.6,7.4,7.6,6.6,6.5,7.1,7.7,6.5,6.9,8.2,6.7,6.8,6.5,6.5,6.9,6.5,6.5,6.5],\"xaxis\":\"x\",\"y\":[803,822,776,670,871,1790,711,693,954,655,776,669,650,691,650,758,691,2026,651,735,651,979,1075,776,776,652,1570,1206,1050,743,655,1704,1392,733,741,696,719,697,943,1384,1870,1075,1623,998,651,771,676,1153,2790,661,727,674,691,694,651,1686,2910,707,1064,918,704,740,1034,1188,711,678,650,713,814,1642,1297,671,733,653,718,987,654,849,742,1152,726,972,737,650,961,1120,731,693,855,1144,664,656,1545,2840,677,716,733,897,713,981,799,971,671,798,733,780,744,755,1163,2074,903,738,692,691,734,948,799,1496,673,717,651,1515,765,738,827,691,896,957,715,1018,702,744,761,675,841,657,1448,780,671,820,718,657,799,1960,708,650,671,762,734,759,686,691,652,1151,762,711,732,711,831,1563,776,869,714,692,1016,733,2820,650,650,872,760,714,700,711,650,709,670,670,713,652,698,779,671,776,982,724,741,732,732,706,1079,650,691,732,963,691,650,732,951,694,670,838,865,670,1017,670,842,889,677,650,776,1057,670,732,1332,718,1211,668,681,733,650,650,650],\"yaxis\":\"y\",\"type\":\"scatter\"},{\"customdata\":[[\"2013\"],[\"2013\"],[\"2013\"],[\"2013\"],[\"2013\"],[\"2013\"],[\"2013\"],[\"2013\"],[\"2013\"],[\"2013\"],[\"2013\"],[\"2013\"],[\"2013\"],[\"2013\"],[\"2013\"],[\"2013\"],[\"2013\"],[\"2013\"],[\"2013\"],[\"2013\"],[\"2013\"],[\"2013\"],[\"2013\"],[\"2013\"],[\"2013\"],[\"2013\"],[\"2013\"],[\"2013\"],[\"2013\"],[\"2013\"],[\"2013\"],[\"2013\"],[\"2013\"],[\"2013\"],[\"2013\"],[\"2013\"],[\"2013\"],[\"2013\"],[\"2013\"],[\"2013\"],[\"2013\"],[\"2013\"],[\"2013\"],[\"2013\"],[\"2013\"],[\"2013\"],[\"2013\"],[\"2013\"],[\"2013\"],[\"2013\"],[\"2013\"],[\"2013\"],[\"2013\"],[\"2012\"],[\"2012\"],[\"2012\"],[\"2012\"],[\"2012\"],[\"2012\"],[\"2012\"],[\"2012\"],[\"2012\"],[\"2012\"],[\"2012\"],[\"2012\"],[\"2012\"],[\"2012\"],[\"2012\"],[\"2012\"],[\"2012\"],[\"2012\"],[\"2012\"],[\"2012\"],[\"2012\"],[\"2012\"],[\"2012\"],[\"2012\"],[\"2012\"],[\"2012\"],[\"2012\"],[\"2012\"],[\"2012\"],[\"2012\"],[\"2012\"],[\"2011\"],[\"2011\"],[\"2011\"],[\"2011\"],[\"2011\"],[\"2011\"],[\"2011\"],[\"2011\"],[\"2011\"],[\"2011\"],[\"2011\"],[\"2011\"],[\"2011\"],[\"2011\"],[\"2011\"],[\"2011\"],[\"2011\"],[\"2011\"],[\"2011\"],[\"2011\"],[\"2011\"],[\"2011\"],[\"2011\"],[\"2011\"],[\"2011\"],[\"2011\"],[\"2011\"],[\"2011\"],[\"2011\"],[\"2011\"],[\"2011\"],[\"2011\"],[\"2011\"],[\"2011\"],[\"2010\"],[\"2010\"],[\"2010\"],[\"2010\"],[\"2010\"],[\"2010\"],[\"2010\"],[\"2010\"],[\"2010\"],[\"2010\"],[\"2010\"],[\"2010\"],[\"2010\"],[\"2010\"],[\"2010\"],[\"2010\"],[\"2010\"],[\"2010\"],[\"2010\"],[\"2010\"],[\"2010\"],[\"2010\"],[\"2010\"],[\"2010\"],[\"2010\"],[\"2010\"],[\"2010\"],[\"2010\"],[\"2010\"],[\"2010\"],[\"2010\"],[\"2010\"],[\"2010\"],[\"2010\"],[\"2010\"],[\"2010\"],[\"2010\"],[\"2010\"],[\"2010\"],[\"2010\"],[\"2010\"],[\"2009\"],[\"2009\"],[\"2009\"],[\"2009\"],[\"2009\"],[\"2009\"],[\"2009\"],[\"2009\"],[\"2009\"],[\"2009\"],[\"2009\"],[\"2009\"],[\"2009\"],[\"2009\"],[\"2009\"],[\"2009\"],[\"2009\"],[\"2009\"],[\"2009\"],[\"2009\"],[\"2009\"],[\"2009\"],[\"2009\"],[\"2009\"],[\"2009\"],[\"2009\"],[\"2008\"],[\"2008\"],[\"2008\"],[\"2008\"],[\"2008\"],[\"2008\"],[\"2008\"],[\"2008\"],[\"2008\"],[\"2008\"],[\"2008\"],[\"2008\"],[\"2008\"],[\"2008\"],[\"2008\"],[\"2008\"],[\"2008\"],[\"2008\"],[\"2008\"],[\"2008\"],[\"2008\"],[\"2008\"],[\"2008\"],[\"2008\"],[\"2008\"],[\"2007\"],[\"2007\"],[\"2007\"],[\"2007\"],[\"2007\"],[\"2007\"],[\"2007\"],[\"2007\"],[\"2007\"],[\"2007\"],[\"2007\"],[\"2007\"],[\"2007\"],[\"2007\"],[\"2007\"],[\"2007\"],[\"2007\"],[\"2007\"],[\"2007\"],[\"2007\"],[\"2007\"],[\"2007\"],[\"2007\"],[\"2007\"],[\"2007\"],[\"2007\"],[\"2007\"],[\"2007\"],[\"2007\"],[\"2007\"],[\"2007\"],[\"2007\"],[\"2007\"],[\"2007\"],[\"2007\"],[\"2007\"],[\"2007\"],[\"2006\"],[\"2006\"],[\"2006\"],[\"2006\"],[\"2006\"],[\"2006\"],[\"2006\"],[\"2006\"],[\"2006\"],[\"2006\"],[\"2006\"],[\"2006\"],[\"2006\"],[\"2006\"],[\"2006\"],[\"2006\"],[\"2006\"],[\"2006\"],[\"2006\"],[\"2006\"],[\"2006\"],[\"2006\"],[\"2006\"],[\"2006\"],[\"2006\"],[\"2006\"],[\"2005\"],[\"2005\"],[\"2005\"],[\"2005\"],[\"2005\"],[\"2005\"],[\"2005\"],[\"2005\"],[\"2005\"],[\"2005\"],[\"2005\"],[\"2005\"],[\"2005\"],[\"2005\"],[\"2005\"],[\"2005\"],[\"2005\"],[\"2005\"],[\"2005\"],[\"2005\"],[\"2005\"],[\"2005\"],[\"2005\"],[\"2005\"],[\"2005\"],[\"2005\"],[\"2005\"],[\"2005\"],[\"2004\"],[\"2004\"],[\"2004\"],[\"2004\"],[\"2004\"],[\"2004\"],[\"2004\"],[\"2004\"],[\"2004\"],[\"2004\"],[\"2004\"],[\"2004\"],[\"2004\"],[\"2004\"],[\"2004\"],[\"2004\"],[\"2004\"],[\"2004\"],[\"2004\"],[\"2004\"],[\"2004\"],[\"2004\"],[\"2004\"],[\"2004\"],[\"2004\"],[\"2004\"],[\"2004\"],[\"2004\"],[\"2004\"],[\"2004\"],[\"2004\"],[\"2004\"]],\"hovertemplate\":\"age_category=10-20\\u003cbr\\u003emagnitude=%{x}\\u003cbr\\u003esig=%{y}\\u003cbr\\u003edate_time=%{customdata[0]}\\u003cextra\\u003e\\u003c\\u002fextra\\u003e\",\"legendgroup\":\"10-20\",\"marker\":{\"color\":\"#000003\",\"symbol\":\"circle\"},\"mode\":\"markers\",\"name\":\"10-20\",\"orientation\":\"v\",\"showlegend\":true,\"x\":[6.5,7.7,6.9,6.6,7.1,6.6,6.8,7.1,6.6,6.7,6.5,6.8,7.1,7.7,6.5,6.5,6.5,7.0,6.5,6.7,6.5,7.3,6.6,7.3,6.6,6.5,6.7,6.7,8.3,7.4,6.8,6.5,6.6,7.2,6.6,7.7,6.6,7.0,6.5,6.5,6.9,6.6,6.6,6.9,7.1,6.8,6.7,7.0,7.1,8.0,6.9,6.8,7.5,6.7,7.1,7.3,6.5,6.8,7.4,7.8,6.5,6.6,7.3,7.6,7.6,7.3,6.6,7.7,6.5,6.6,6.7,6.8,6.7,7.0,6.5,8.2,8.6,7.1,6.6,7.4,6.7,6.7,7.1,7.2,6.6,7.1,6.5,6.9,7.1,6.5,6.9,6.7,6.7,7.0,7.0,7.1,6.5,7.2,6.6,7.6,6.7,6.8,6.8,6.6,7.1,6.6,6.9,6.6,6.5,7.7,7.9,9.1,7.3,6.7,6.9,7.2,7.0,7.2,7.3,6.7,6.6,7.8,6.7,7.0,7.0,7.1,7.3,7.0,6.5,7.6,7.3,6.9,6.6,6.7,6.6,7.0,7.5,7.2,7.2,6.9,6.9,7.8,7.2,6.6,6.7,6.5,7.0,6.9,6.8,6.6,6.5,7.4,8.8,7.0,7.0,6.5,6.8,7.1,6.6,6.5,7.3,6.6,6.8,6.9,6.8,7.4,7.8,7.7,6.6,7.6,8.1,7.0,6.7,6.6,7.5,7.1,6.9,7.8,6.7,7.3,7.6,7.2,7.4,6.6,7.7,7.4,6.7,6.7,6.8,6.6,6.9,6.7,6.8,7.0,6.9,6.6,6.9,7.9,6.9,7.3,7.2,6.9,6.7,6.6,7.2,6.5,7.4,6.5,6.9,6.5,6.6,6.7,7.4,6.6,6.5,6.5,6.8,6.8,6.8,7.7,6.8,6.8,6.8,6.7,7.0,6.5,7.9,7.8,8.4,6.8,7.2,6.5,8.0,7.5,7.2,6.9,6.8,6.6,6.7,6.9,6.6,8.1,6.7,7.1,6.7,7.5,8.1,6.9,7.1,8.3,6.6,6.7,6.7,6.7,6.9,6.8,6.5,6.8,7.7,6.5,6.6,6.8,8.0,8.0,6.5,6.7,6.6,7.6,6.5,6.7,7.0,6.7,6.6,6.5,6.8,6.5,6.5,6.8,7.6,6.6,7.5,7.6,7.2,7.2,6.7,6.6,7.2,7.8,6.9,6.7,6.5,6.7,8.6,6.6,7.1,6.8,6.5,6.5,6.7,7.1,6.6,6.6,7.2,9.1,8.1,6.8,6.8,7.0,7.1,7.1,7.2,7.5,6.7,6.7,6.6,6.7,7.0,6.5,6.8,6.6,7.4,7.2,6.5,6.5,6.9,6.6,6.7,6.5,6.6,6.7,7.3,7.0,6.7],\"xaxis\":\"x\",\"y\":[651,912,732,723,872,692,711,1092,691,691,650,1005,843,2015,650,739,668,758,690,715,693,820,674,820,670,679,710,691,1115,842,711,650,2083,804,672,1421,670,755,650,651,736,670,670,904,780,711,691,754,776,993,814,771,1425,691,843,1014,708,795,1455,1726,745,675,1221,1555,1115,994,678,941,653,675,691,732,691,1000,1171,1213,2048,1496,709,1752,833,1551,793,838,670,834,1400,847,1096,655,1562,712,915,761,913,787,650,813,674,893,749,734,719,822,1114,897,1154,673,650,931,1140,2184,972,731,988,1449,755,1054,820,708,670,946,776,772,1245,945,850,757,659,902,831,737,753,696,670,755,1144,804,918,773,740,936,2910,701,856,810,874,1280,717,736,650,842,1991,1180,1623,1360,713,780,672,698,820,677,711,972,711,842,936,916,787,1639,1055,1175,753,703,1248,1005,1202,1165,693,1560,916,802,846,765,918,848,731,691,711,670,732,692,1046,840,825,680,888,1870,910,820,798,740,696,674,832,654,914,692,941,723,808,704,1542,672,653,657,722,790,716,995,713,744,713,696,768,650,1133,1152,1086,747,798,675,1385,865,803,734,779,831,972,732,670,1025,782,779,691,874,1034,798,1023,1064,670,732,692,1481,737,711,650,713,947,650,670,719,1013,1026,653,696,670,889,654,691,891,934,703,721,744,683,651,711,1267,670,1018,891,1104,808,693,719,1318,1020,740,731,657,717,1138,805,776,711,650,652,691,782,676,670,802,1274,1009,858,724,771,776,782,820,870,691,703,670,705,754,665,711,670,842,798,650,650,732,670,691,650,670,691,820,754,691],\"yaxis\":\"y\",\"type\":\"scatter\"},{\"customdata\":[[\"2003\"],[\"2003\"],[\"2003\"],[\"2003\"],[\"2003\"],[\"2003\"],[\"2003\"],[\"2003\"],[\"2003\"],[\"2003\"],[\"2003\"],[\"2003\"],[\"2003\"],[\"2003\"],[\"2003\"],[\"2003\"],[\"2003\"],[\"2003\"],[\"2003\"],[\"2003\"],[\"2003\"],[\"2003\"],[\"2003\"],[\"2003\"],[\"2003\"],[\"2003\"],[\"2003\"],[\"2003\"],[\"2003\"],[\"2003\"],[\"2003\"],[\"2002\"],[\"2002\"],[\"2002\"],[\"2002\"],[\"2002\"],[\"2002\"],[\"2002\"],[\"2002\"],[\"2002\"],[\"2002\"],[\"2002\"],[\"2002\"],[\"2002\"],[\"2002\"],[\"2002\"],[\"2002\"],[\"2002\"],[\"2002\"],[\"2002\"],[\"2002\"],[\"2002\"],[\"2002\"],[\"2002\"],[\"2002\"],[\"2002\"],[\"2001\"],[\"2001\"],[\"2001\"],[\"2001\"],[\"2001\"],[\"2001\"],[\"2001\"],[\"2001\"],[\"2001\"],[\"2001\"],[\"2001\"],[\"2001\"],[\"2001\"],[\"2001\"],[\"2001\"],[\"2001\"],[\"2001\"],[\"2001\"],[\"2001\"],[\"2001\"],[\"2001\"],[\"2001\"],[\"2001\"],[\"2001\"],[\"2001\"],[\"2001\"],[\"2001\"],[\"2001\"]],\"hovertemplate\":\"age_category=\\u003e20\\u003cbr\\u003emagnitude=%{x}\\u003cbr\\u003esig=%{y}\\u003cbr\\u003edate_time=%{customdata[0]}\\u003cextra\\u003e\\u003c\\u002fextra\\u003e\",\"legendgroup\":\"\\u003e20\",\"marker\":{\"color\":\"#000004\",\"symbol\":\"circle\"},\"mode\":\"markers\",\"name\":\"\\u003e20\",\"orientation\":\"v\",\"showlegend\":true,\"x\":[7.3,6.6,6.5,6.5,6.8,6.6,6.5,6.6,7.0,6.7,6.7,6.5,7.3,7.4,8.16,6.6,7.2,7.6,6.5,6.8,6.9,6.6,7.0,7.0,6.8,6.5,6.8,7.6,6.5,7.3,6.7,6.7,7.9,7.4,6.6,6.7,7.6,6.5,7.6,6.5,6.5,6.5,6.6,6.7,7.1,6.7,6.8,7.1,6.5,7.5,7.4,6.6,6.5,6.7,6.6,7.2,6.8,6.8,6.5,7.8,7.0,7.5,7.0,6.5,6.6,6.5,7.6,6.6,6.7,8.4,6.7,6.8,6.5,6.8,7.1,7.4,6.6,7.7,6.9,7.7,6.9,7.1,6.8,7.5],\"xaxis\":\"x\",\"y\":[820,670,650,1390,711,670,650,670,754,691,691,650,820,842,1024,670,798,889,650,711,732,670,754,754,711,650,711,889,650,820,691,691,1750,842,670,691,889,650,889,650,650,650,670,691,776,691,711,776,650,865,842,670,650,691,670,798,711,711,650,936,754,865,754,650,754,650,889,670,691,1086,691,711,650,1441,776,842,670,912,732,912,745,776,711,865],\"yaxis\":\"y\",\"type\":\"scatter\"}],                        {\"template\":{\"data\":{\"candlestick\":[{\"decreasing\":{\"line\":{\"color\":\"#000033\"}},\"increasing\":{\"line\":{\"color\":\"#000032\"}},\"type\":\"candlestick\"}],\"contourcarpet\":[{\"colorscale\":[[0.0,\"#000011\"],[0.1111111111111111,\"#000012\"],[0.2222222222222222,\"#000013\"],[0.3333333333333333,\"#000014\"],[0.4444444444444444,\"#000015\"],[0.5555555555555556,\"#000016\"],[0.6666666666666666,\"#000017\"],[0.7777777777777778,\"#000018\"],[0.8888888888888888,\"#000019\"],[1.0,\"#000020\"]],\"type\":\"contourcarpet\"}],\"contour\":[{\"colorscale\":[[0.0,\"#000011\"],[0.1111111111111111,\"#000012\"],[0.2222222222222222,\"#000013\"],[0.3333333333333333,\"#000014\"],[0.4444444444444444,\"#000015\"],[0.5555555555555556,\"#000016\"],[0.6666666666666666,\"#000017\"],[0.7777777777777778,\"#000018\"],[0.8888888888888888,\"#000019\"],[1.0,\"#000020\"]],\"type\":\"contour\"}],\"heatmap\":[{\"colorscale\":[[0.0,\"#000011\"],[0.1111111111111111,\"#000012\"],[0.2222222222222222,\"#000013\"],[0.3333333333333333,\"#000014\"],[0.4444444444444444,\"#000015\"],[0.5555555555555556,\"#000016\"],[0.6666666666666666,\"#000017\"],[0.7777777777777778,\"#000018\"],[0.8888888888888888,\"#000019\"],[1.0,\"#000020\"]],\"type\":\"heatmap\"}],\"histogram2d\":[{\"colorscale\":[[0.0,\"#000011\"],[0.1111111111111111,\"#000012\"],[0.2222222222222222,\"#000013\"],[0.3333333333333333,\"#000014\"],[0.4444444444444444,\"#000015\"],[0.5555555555555556,\"#000016\"],[0.6666666666666666,\"#000017\"],[0.7777777777777778,\"#000018\"],[0.8888888888888888,\"#000019\"],[1.0,\"#000020\"]],\"type\":\"histogram2d\"}],\"icicle\":[{\"textfont\":{\"color\":\"white\"},\"type\":\"icicle\"}],\"sankey\":[{\"textfont\":{\"color\":\"#000036\"},\"type\":\"sankey\"}],\"scatter\":[{\"marker\":{\"line\":{\"width\":0}},\"type\":\"scatter\"}],\"table\":[{\"cells\":{\"fill\":{\"color\":\"#000038\"},\"font\":{\"color\":\"#000037\"},\"line\":{\"color\":\"#000039\"}},\"header\":{\"fill\":{\"color\":\"#000040\"},\"font\":{\"color\":\"#000036\"},\"line\":{\"color\":\"#000039\"}},\"type\":\"table\"}],\"waterfall\":[{\"connector\":{\"line\":{\"color\":\"#000036\",\"width\":2}},\"decreasing\":{\"marker\":{\"color\":\"#000033\"}},\"increasing\":{\"marker\":{\"color\":\"#000032\"}},\"totals\":{\"marker\":{\"color\":\"#000034\"}},\"type\":\"waterfall\"}]},\"layout\":{\"coloraxis\":{\"colorscale\":[[0.0,\"#000011\"],[0.1111111111111111,\"#000012\"],[0.2222222222222222,\"#000013\"],[0.3333333333333333,\"#000014\"],[0.4444444444444444,\"#000015\"],[0.5555555555555556,\"#000016\"],[0.6666666666666666,\"#000017\"],[0.7777777777777778,\"#000018\"],[0.8888888888888888,\"#000019\"],[1.0,\"#000020\"]]},\"colorscale\":{\"diverging\":[[0.0,\"#000021\"],[0.1,\"#000022\"],[0.2,\"#000023\"],[0.3,\"#000024\"],[0.4,\"#000025\"],[0.5,\"#000026\"],[0.6,\"#000027\"],[0.7,\"#000028\"],[0.8,\"#000029\"],[0.9,\"#000030\"],[1.0,\"#000031\"]],\"sequential\":[[0.0,\"#000011\"],[0.1111111111111111,\"#000012\"],[0.2222222222222222,\"#000013\"],[0.3333333333333333,\"#000014\"],[0.4444444444444444,\"#000015\"],[0.5555555555555556,\"#000016\"],[0.6666666666666666,\"#000017\"],[0.7777777777777778,\"#000018\"],[0.8888888888888888,\"#000019\"],[1.0,\"#000020\"]],\"sequentialminus\":[[0.0,\"#000011\"],[0.1111111111111111,\"#000012\"],[0.2222222222222222,\"#000013\"],[0.3333333333333333,\"#000014\"],[0.4444444444444444,\"#000015\"],[0.5555555555555556,\"#000016\"],[0.6666666666666666,\"#000017\"],[0.7777777777777778,\"#000018\"],[0.8888888888888888,\"#000019\"],[1.0,\"#000020\"]]},\"colorway\":[\"#000001\",\"#000002\",\"#000003\",\"#000004\",\"#000005\",\"#000006\",\"#000007\",\"#000008\",\"#000009\",\"#000010\"]}},\"xaxis\":{\"anchor\":\"y\",\"domain\":[0.0,1.0],\"title\":{\"text\":\"magnitude\"}},\"yaxis\":{\"anchor\":\"x\",\"domain\":[0.0,1.0],\"title\":{\"text\":\"sig\"}},\"legend\":{\"title\":{\"text\":\"age_category\"},\"tracegroupgap\":0},\"margin\":{\"t\":60}},                        {\"responsive\": true}                    ).then(function(){\n",
       "                            \n",
       "var gd = document.getElementById('49eedb87-c7e7-48a7-8e0f-dfb6bc56b7e8');\n",
       "var x = new MutationObserver(function (mutations, observer) {{\n",
       "        var display = window.getComputedStyle(gd).display;\n",
       "        if (!display || display === 'none') {{\n",
       "            console.log([gd, 'removed!']);\n",
       "            Plotly.purge(gd);\n",
       "            observer.disconnect();\n",
       "        }}\n",
       "}});\n",
       "\n",
       "// Listen for the removal of the full notebook cells\n",
       "var notebookContainer = gd.closest('#notebook-container');\n",
       "if (notebookContainer) {{\n",
       "    x.observe(notebookContainer, {childList: true});\n",
       "}}\n",
       "\n",
       "// Listen for the clearing of the current output cell\n",
       "var outputEl = gd.closest('.output');\n",
       "if (outputEl) {{\n",
       "    x.observe(outputEl, {childList: true});\n",
       "}}\n",
       "\n",
       "                        })                };                });            </script>        </div>"
      ]
     },
     "metadata": {},
     "output_type": "display_data"
    }
   ],
   "source": [
    "fig2.show()"
   ]
  },
  {
   "cell_type": "code",
   "execution_count": 74,
   "id": "b098241d",
   "metadata": {},
   "outputs": [],
   "source": [
    "st.write(\"\"\"\n",
    "###### The \"sig\" numbers tend to rise with increasing magnitude numbers. Moreover, the year span doesn't appear to reveal any hidden insights in this graph.\n",
    "\"\"\")"
   ]
  },
  {
   "cell_type": "markdown",
   "id": "29772ddd",
   "metadata": {},
   "source": [
    "### SIG\n",
    "\n",
    "Sig - A number describing how significant the event is. Larger numbers indicate a more significant event. This value is determined on a number of factors, including: magnitude, maximum MMI, felt reports, and estimated impact"
   ]
  },
  {
   "cell_type": "markdown",
   "id": "5195ea74",
   "metadata": {},
   "source": [
    "## Conclusion\n",
    "\n",
    "* Through analysis and visualization, this project seeks to shed light on the dynamics of seismic events, ultimately contributing to our understanding of earthquakes' impact and mitigation strategies.\n",
    "* The \"sig\" numbers tend to rise with increasing magnitude numbers. Moreover, the year span doesn't appear to reveal any hidden insights in this graph.\n",
    "* Additionally, a great majority of these Earquakes occur at a Green Alert Level (325 total), this comes at 42% of earthquakes occurring at Green Alert Lever for this dataset (Total of 782 data, including not specified).\n",
    "* We can further analyze other insights such as mapping in which Continent produces higher Red Alert Level for further precautionary steps in those areas."
   ]
  },
  {
   "cell_type": "code",
   "execution_count": 75,
   "id": "492656e7",
   "metadata": {},
   "outputs": [],
   "source": [
    "#streamlit run earthquake_eda.py"
   ]
  }
 ],
 "metadata": {
  "kernelspec": {
   "display_name": "Python 3 (ipykernel)",
   "language": "python",
   "name": "python3"
  },
  "language_info": {
   "codemirror_mode": {
    "name": "ipython",
    "version": 3
   },
   "file_extension": ".py",
   "mimetype": "text/x-python",
   "name": "python",
   "nbconvert_exporter": "python",
   "pygments_lexer": "ipython3",
   "version": "3.10.9"
  }
 },
 "nbformat": 4,
 "nbformat_minor": 5
}
